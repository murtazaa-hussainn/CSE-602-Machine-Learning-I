{
 "cells": [
  {
   "cell_type": "markdown",
   "metadata": {},
   "source": [
    "## Machine Learning Assignment 1\n",
    "### Murtaza Hussain (29449) and Muhammad Asad ur Rehman (29456)\n",
    "UCI-ML Dataset Link: https://archive.ics.uci.edu/dataset/602/dry+bean+dataset"
   ]
  },
  {
   "cell_type": "code",
   "execution_count": 1,
   "metadata": {},
   "outputs": [],
   "source": [
    "# Import necessary libraries\n",
    "import pandas as pd\n",
    "import numpy as np\n",
    "from sklearn.model_selection import train_test_split, cross_val_score, KFold\n",
    "from sklearn.preprocessing import StandardScaler, LabelEncoder\n",
    "from sklearn.neighbors import KNeighborsClassifier\n",
    "from sklearn.metrics import classification_report, accuracy_score\n",
    "import matplotlib.pyplot as plt\n",
    "import seaborn as sns\n",
    "from ucimlrepo import fetch_ucirepo"
   ]
  },
  {
   "cell_type": "code",
   "execution_count": 2,
   "metadata": {},
   "outputs": [
    {
     "name": "stdout",
     "output_type": "stream",
     "text": [
      "{'uci_id': 602, 'name': 'Dry Bean Dataset', 'repository_url': 'https://archive.ics.uci.edu/dataset/602/dry+bean+dataset', 'data_url': 'https://archive.ics.uci.edu/static/public/602/data.csv', 'abstract': 'Images of 13,611 grains of 7 different registered dry beans were taken with a high-resolution camera. A total of 16 features; 12 dimensions and 4 shape forms, were obtained from the grains.', 'area': 'Biology', 'tasks': ['Classification'], 'characteristics': ['Multivariate'], 'num_instances': 13611, 'num_features': 16, 'feature_types': ['Integer', 'Real'], 'demographics': [], 'target_col': ['Class'], 'index_col': None, 'has_missing_values': 'no', 'missing_values_symbol': None, 'year_of_dataset_creation': 2020, 'last_updated': 'Fri Nov 03 2023', 'dataset_doi': '10.24432/C50S4B', 'creators': [], 'intro_paper': {'title': 'Multiclass classification of dry beans using computer vision and machine learning techniques', 'authors': 'M. Koklu, Ilker Ali Özkan', 'published_in': 'Computers and Electronics in Agriculture', 'year': 2020, 'url': 'https://www.semanticscholar.org/paper/e84c31138f2f261d15517d6b6bb8922c3fe597a1', 'doi': '10.1016/j.compag.2020.105507'}, 'additional_info': {'summary': 'Seven different types of dry beans were used in this research, taking into account the features such as form, shape, type, and structure by the market situation. A computer vision system was developed to distinguish seven different registered varieties of dry beans with similar features in order to obtain uniform seed classification. For the classification model, images of 13,611 grains of 7 different registered dry beans were taken with a high-resolution camera. Bean images obtained by computer vision system were subjected to segmentation and feature extraction stages, and a total of 16 features; 12 dimensions and 4 shape forms, were obtained from the grains.', 'purpose': None, 'funded_by': None, 'instances_represent': None, 'recommended_data_splits': None, 'sensitive_data': None, 'preprocessing_description': None, 'variable_info': '1.) Area (A): The area of a bean zone and the number of pixels within its boundaries.\\r\\n2.) Perimeter (P): Bean circumference is defined as the length of its border.\\r\\n3.) Major axis length (L): The distance between the ends of the longest line that can be drawn from a bean.\\r\\n4.) Minor axis length (l): The longest line that can be drawn from the bean while standing perpendicular to the main axis.\\r\\n5.) Aspect ratio (K): Defines the relationship between L and l.\\r\\n6.) Eccentricity (Ec): Eccentricity of the ellipse having the same moments as the region.\\r\\n7.) Convex area (C): Number of pixels in the smallest convex polygon that can contain the area of a bean seed.\\r\\n8.) Equivalent diameter (Ed): The diameter of a circle having the same area as a bean seed area.\\r\\n9.) Extent (Ex): The ratio of the pixels in the bounding box to the bean area.\\r\\n10.)Solidity (S): Also known as convexity. The ratio of the pixels in the convex shell to those found in beans.\\r\\n11.)Roundness (R): Calculated with the following formula: (4piA)/(P^2)\\r\\n12.)Compactness (CO): Measures the roundness of an object: Ed/L\\r\\n13.)ShapeFactor1 (SF1)\\r\\n14.)ShapeFactor2 (SF2)\\r\\n15.)ShapeFactor3 (SF3)\\r\\n16.)ShapeFactor4 (SF4)\\r\\n17.)Class (Seker, Barbunya, Bombay, Cali, Dermosan, Horoz and Sira)\\r\\n', 'citation': None}}\n",
      "               name     role         type demographic  \\\n",
      "0              Area  Feature      Integer        None   \n",
      "1         Perimeter  Feature   Continuous        None   \n",
      "2   MajorAxisLength  Feature   Continuous        None   \n",
      "3   MinorAxisLength  Feature   Continuous        None   \n",
      "4       AspectRatio  Feature   Continuous        None   \n",
      "5      Eccentricity  Feature   Continuous        None   \n",
      "6        ConvexArea  Feature      Integer        None   \n",
      "7     EquivDiameter  Feature   Continuous        None   \n",
      "8            Extent  Feature   Continuous        None   \n",
      "9          Solidity  Feature   Continuous        None   \n",
      "10        Roundness  Feature   Continuous        None   \n",
      "11      Compactness  Feature   Continuous        None   \n",
      "12     ShapeFactor1  Feature   Continuous        None   \n",
      "13     ShapeFactor2  Feature   Continuous        None   \n",
      "14     ShapeFactor3  Feature   Continuous        None   \n",
      "15     ShapeFactor4  Feature   Continuous        None   \n",
      "16            Class   Target  Categorical        None   \n",
      "\n",
      "                                          description   units missing_values  \n",
      "0   The area of a bean zone and the number of pixe...  pixels             no  \n",
      "1   Bean circumference is defined as the length of...    None             no  \n",
      "2   The distance between the ends of the longest l...    None             no  \n",
      "3   The longest line that can be drawn from the be...    None             no  \n",
      "4   Defines the relationship between MajorAxisLeng...    None             no  \n",
      "5   Eccentricity of the ellipse having the same mo...    None             no  \n",
      "6   Number of pixels in the smallest convex polygo...    None             no  \n",
      "7   Equivalent diameter: The diameter of a circle ...    None             no  \n",
      "8   The ratio of the pixels in the bounding box to...    None             no  \n",
      "9   Also known as convexity. The ratio of the pixe...    None             no  \n",
      "10  Calculated with the following formula: (4piA)/...    None             no  \n",
      "11                Measures the roundness of an object    Ed/L             no  \n",
      "12                                               None    None             no  \n",
      "13                                               None    None             no  \n",
      "14                                               None    None             no  \n",
      "15                                               None    None             no  \n",
      "16  (Seker, Barbunya, Bombay, Cali, Dermosan, Horo...    None             no  \n"
     ]
    }
   ],
   "source": [
    "# Data Loader loads data from UCI-ML Repo\n",
    "def load_dataset():\n",
    "    # fetch dataset\n",
    "    mushroom = fetch_ucirepo(id=602) \n",
    "\n",
    "    # data (as pandas dataframes) \n",
    "    x = mushroom.data.features \n",
    "    y = mushroom.data.targets \n",
    "    z = mushroom.data.original\n",
    "\n",
    "    # metadata \n",
    "    print(mushroom.metadata) \n",
    "\n",
    "    # variable information \n",
    "    print(mushroom.variables)\n",
    "\n",
    "    return x, y, z\n",
    "\n",
    "# UCI-ML Repo Provides us with 3 Pandas DF inherently:\n",
    "# 1. features (contains only the features)\n",
    "# 2. targets (the targets to be preddicted)\n",
    "# 3. original (contains both features and targets)\n",
    "features, targets, original = load_dataset()"
   ]
  },
  {
   "cell_type": "code",
   "execution_count": 3,
   "metadata": {},
   "outputs": [
    {
     "name": "stdout",
     "output_type": "stream",
     "text": [
      "Column Name: Area\n",
      "Column DataType: int64\n",
      "Column unique values: [28395 28734 29380 ... 42139 42147 42159]\n",
      "Column has null: False\n",
      "\n",
      "\n",
      "Column Name: Perimeter\n",
      "Column DataType: float64\n",
      "Column has null: False\n",
      "\n",
      "\n",
      "Column Name: MajorAxisLength\n",
      "Column DataType: float64\n",
      "Column has null: False\n",
      "\n",
      "\n",
      "Column Name: MinorAxisLength\n",
      "Column DataType: float64\n",
      "Column has null: False\n",
      "\n",
      "\n",
      "Column Name: AspectRatio\n",
      "Column DataType: float64\n",
      "Column has null: False\n",
      "\n",
      "\n",
      "Column Name: Eccentricity\n",
      "Column DataType: float64\n",
      "Column has null: False\n",
      "\n",
      "\n",
      "Column Name: ConvexArea\n",
      "Column DataType: int64\n",
      "Column unique values: [28715 29172 29690 ... 42494 42667 42600]\n",
      "Column has null: False\n",
      "\n",
      "\n",
      "Column Name: EquivDiameter\n",
      "Column DataType: float64\n",
      "Column has null: False\n",
      "\n",
      "\n",
      "Column Name: Extent\n",
      "Column DataType: float64\n",
      "Column has null: False\n",
      "\n",
      "\n",
      "Column Name: Solidity\n",
      "Column DataType: float64\n",
      "Column has null: False\n",
      "\n",
      "\n",
      "Column Name: Roundness\n",
      "Column DataType: float64\n",
      "Column has null: False\n",
      "\n",
      "\n",
      "Column Name: Compactness\n",
      "Column DataType: float64\n",
      "Column has null: False\n",
      "\n",
      "\n",
      "Column Name: ShapeFactor1\n",
      "Column DataType: float64\n",
      "Column has null: False\n",
      "\n",
      "\n",
      "Column Name: ShapeFactor2\n",
      "Column DataType: float64\n",
      "Column has null: False\n",
      "\n",
      "\n",
      "Column Name: ShapeFactor3\n",
      "Column DataType: float64\n",
      "Column has null: False\n",
      "\n",
      "\n",
      "Column Name: ShapeFactor4\n",
      "Column DataType: float64\n",
      "Column has null: False\n",
      "\n",
      "\n",
      "Column Name: Class\n",
      "Column DataType: object\n",
      "Column unique values: ['SEKER' 'BARBUNYA' 'BOMBAY' 'CALI' 'HOROZ' 'SIRA' 'DERMASON']\n",
      "Column has null: False\n",
      "\n",
      "\n"
     ]
    }
   ],
   "source": [
    "# This function performs a missing value analysis on each column of the dataset, helps you decide on what to do in cleaning process\n",
    "def null_check(df):\n",
    "    null_columns = []\n",
    "    for column in df.columns:\n",
    "        print(\"Column Name:\", column)\n",
    "        print(\"Column DataType:\", df[column].dtype)\n",
    "        if df[column].dtype != 'float64':\n",
    "            print(\"Column unique values:\", df[column].unique())\n",
    "        print(\"Column has null:\", df[column].isnull().any())\n",
    "        if df[column].isnull().any() == True:\n",
    "            print(\"Column Null Count:\", df[column].isnull().sum())\n",
    "            null_columns.append(column)\n",
    "        print(\"\\n\")\n",
    "    return null_columns\n",
    "\n",
    "null_cols = null_check(original)"
   ]
  },
  {
   "cell_type": "code",
   "execution_count": 4,
   "metadata": {},
   "outputs": [
    {
     "data": {
      "text/html": [
       "<div>\n",
       "<style scoped>\n",
       "    .dataframe tbody tr th:only-of-type {\n",
       "        vertical-align: middle;\n",
       "    }\n",
       "\n",
       "    .dataframe tbody tr th {\n",
       "        vertical-align: top;\n",
       "    }\n",
       "\n",
       "    .dataframe thead th {\n",
       "        text-align: right;\n",
       "    }\n",
       "</style>\n",
       "<table border=\"1\" class=\"dataframe\">\n",
       "  <thead>\n",
       "    <tr style=\"text-align: right;\">\n",
       "      <th></th>\n",
       "      <th>Area</th>\n",
       "      <th>Perimeter</th>\n",
       "      <th>MajorAxisLength</th>\n",
       "      <th>MinorAxisLength</th>\n",
       "      <th>AspectRatio</th>\n",
       "      <th>Eccentricity</th>\n",
       "      <th>ConvexArea</th>\n",
       "      <th>EquivDiameter</th>\n",
       "      <th>Extent</th>\n",
       "      <th>Solidity</th>\n",
       "      <th>Roundness</th>\n",
       "      <th>Compactness</th>\n",
       "      <th>ShapeFactor1</th>\n",
       "      <th>ShapeFactor2</th>\n",
       "      <th>ShapeFactor3</th>\n",
       "      <th>ShapeFactor4</th>\n",
       "      <th>Class</th>\n",
       "    </tr>\n",
       "  </thead>\n",
       "  <tbody>\n",
       "    <tr>\n",
       "      <th>0</th>\n",
       "      <td>28395</td>\n",
       "      <td>610.291</td>\n",
       "      <td>208.178117</td>\n",
       "      <td>173.888747</td>\n",
       "      <td>1.197191</td>\n",
       "      <td>0.549812</td>\n",
       "      <td>28715</td>\n",
       "      <td>190.141097</td>\n",
       "      <td>0.763923</td>\n",
       "      <td>0.988856</td>\n",
       "      <td>0.958027</td>\n",
       "      <td>0.913358</td>\n",
       "      <td>0.007332</td>\n",
       "      <td>0.003147</td>\n",
       "      <td>0.834222</td>\n",
       "      <td>0.998724</td>\n",
       "      <td>SEKER</td>\n",
       "    </tr>\n",
       "    <tr>\n",
       "      <th>1</th>\n",
       "      <td>28734</td>\n",
       "      <td>638.018</td>\n",
       "      <td>200.524796</td>\n",
       "      <td>182.734419</td>\n",
       "      <td>1.097356</td>\n",
       "      <td>0.411785</td>\n",
       "      <td>29172</td>\n",
       "      <td>191.272751</td>\n",
       "      <td>0.783968</td>\n",
       "      <td>0.984986</td>\n",
       "      <td>0.887034</td>\n",
       "      <td>0.953861</td>\n",
       "      <td>0.006979</td>\n",
       "      <td>0.003564</td>\n",
       "      <td>0.909851</td>\n",
       "      <td>0.998430</td>\n",
       "      <td>SEKER</td>\n",
       "    </tr>\n",
       "    <tr>\n",
       "      <th>2</th>\n",
       "      <td>29380</td>\n",
       "      <td>624.110</td>\n",
       "      <td>212.826130</td>\n",
       "      <td>175.931143</td>\n",
       "      <td>1.209713</td>\n",
       "      <td>0.562727</td>\n",
       "      <td>29690</td>\n",
       "      <td>193.410904</td>\n",
       "      <td>0.778113</td>\n",
       "      <td>0.989559</td>\n",
       "      <td>0.947849</td>\n",
       "      <td>0.908774</td>\n",
       "      <td>0.007244</td>\n",
       "      <td>0.003048</td>\n",
       "      <td>0.825871</td>\n",
       "      <td>0.999066</td>\n",
       "      <td>SEKER</td>\n",
       "    </tr>\n",
       "    <tr>\n",
       "      <th>3</th>\n",
       "      <td>30008</td>\n",
       "      <td>645.884</td>\n",
       "      <td>210.557999</td>\n",
       "      <td>182.516516</td>\n",
       "      <td>1.153638</td>\n",
       "      <td>0.498616</td>\n",
       "      <td>30724</td>\n",
       "      <td>195.467062</td>\n",
       "      <td>0.782681</td>\n",
       "      <td>0.976696</td>\n",
       "      <td>0.903936</td>\n",
       "      <td>0.928329</td>\n",
       "      <td>0.007017</td>\n",
       "      <td>0.003215</td>\n",
       "      <td>0.861794</td>\n",
       "      <td>0.994199</td>\n",
       "      <td>SEKER</td>\n",
       "    </tr>\n",
       "    <tr>\n",
       "      <th>4</th>\n",
       "      <td>30140</td>\n",
       "      <td>620.134</td>\n",
       "      <td>201.847882</td>\n",
       "      <td>190.279279</td>\n",
       "      <td>1.060798</td>\n",
       "      <td>0.333680</td>\n",
       "      <td>30417</td>\n",
       "      <td>195.896503</td>\n",
       "      <td>0.773098</td>\n",
       "      <td>0.990893</td>\n",
       "      <td>0.984877</td>\n",
       "      <td>0.970516</td>\n",
       "      <td>0.006697</td>\n",
       "      <td>0.003665</td>\n",
       "      <td>0.941900</td>\n",
       "      <td>0.999166</td>\n",
       "      <td>SEKER</td>\n",
       "    </tr>\n",
       "    <tr>\n",
       "      <th>...</th>\n",
       "      <td>...</td>\n",
       "      <td>...</td>\n",
       "      <td>...</td>\n",
       "      <td>...</td>\n",
       "      <td>...</td>\n",
       "      <td>...</td>\n",
       "      <td>...</td>\n",
       "      <td>...</td>\n",
       "      <td>...</td>\n",
       "      <td>...</td>\n",
       "      <td>...</td>\n",
       "      <td>...</td>\n",
       "      <td>...</td>\n",
       "      <td>...</td>\n",
       "      <td>...</td>\n",
       "      <td>...</td>\n",
       "      <td>...</td>\n",
       "    </tr>\n",
       "    <tr>\n",
       "      <th>13606</th>\n",
       "      <td>42097</td>\n",
       "      <td>759.696</td>\n",
       "      <td>288.721612</td>\n",
       "      <td>185.944705</td>\n",
       "      <td>1.552728</td>\n",
       "      <td>0.765002</td>\n",
       "      <td>42508</td>\n",
       "      <td>231.515799</td>\n",
       "      <td>0.714574</td>\n",
       "      <td>0.990331</td>\n",
       "      <td>0.916603</td>\n",
       "      <td>0.801865</td>\n",
       "      <td>0.006858</td>\n",
       "      <td>0.001749</td>\n",
       "      <td>0.642988</td>\n",
       "      <td>0.998385</td>\n",
       "      <td>DERMASON</td>\n",
       "    </tr>\n",
       "    <tr>\n",
       "      <th>13607</th>\n",
       "      <td>42101</td>\n",
       "      <td>757.499</td>\n",
       "      <td>281.576392</td>\n",
       "      <td>190.713136</td>\n",
       "      <td>1.476439</td>\n",
       "      <td>0.735702</td>\n",
       "      <td>42494</td>\n",
       "      <td>231.526798</td>\n",
       "      <td>0.799943</td>\n",
       "      <td>0.990752</td>\n",
       "      <td>0.922015</td>\n",
       "      <td>0.822252</td>\n",
       "      <td>0.006688</td>\n",
       "      <td>0.001886</td>\n",
       "      <td>0.676099</td>\n",
       "      <td>0.998219</td>\n",
       "      <td>DERMASON</td>\n",
       "    </tr>\n",
       "    <tr>\n",
       "      <th>13608</th>\n",
       "      <td>42139</td>\n",
       "      <td>759.321</td>\n",
       "      <td>281.539928</td>\n",
       "      <td>191.187979</td>\n",
       "      <td>1.472582</td>\n",
       "      <td>0.734065</td>\n",
       "      <td>42569</td>\n",
       "      <td>231.631261</td>\n",
       "      <td>0.729932</td>\n",
       "      <td>0.989899</td>\n",
       "      <td>0.918424</td>\n",
       "      <td>0.822730</td>\n",
       "      <td>0.006681</td>\n",
       "      <td>0.001888</td>\n",
       "      <td>0.676884</td>\n",
       "      <td>0.996767</td>\n",
       "      <td>DERMASON</td>\n",
       "    </tr>\n",
       "    <tr>\n",
       "      <th>13609</th>\n",
       "      <td>42147</td>\n",
       "      <td>763.779</td>\n",
       "      <td>283.382636</td>\n",
       "      <td>190.275731</td>\n",
       "      <td>1.489326</td>\n",
       "      <td>0.741055</td>\n",
       "      <td>42667</td>\n",
       "      <td>231.653247</td>\n",
       "      <td>0.705389</td>\n",
       "      <td>0.987813</td>\n",
       "      <td>0.907906</td>\n",
       "      <td>0.817457</td>\n",
       "      <td>0.006724</td>\n",
       "      <td>0.001852</td>\n",
       "      <td>0.668237</td>\n",
       "      <td>0.995222</td>\n",
       "      <td>DERMASON</td>\n",
       "    </tr>\n",
       "    <tr>\n",
       "      <th>13610</th>\n",
       "      <td>42159</td>\n",
       "      <td>772.237</td>\n",
       "      <td>295.142741</td>\n",
       "      <td>182.204716</td>\n",
       "      <td>1.619841</td>\n",
       "      <td>0.786693</td>\n",
       "      <td>42600</td>\n",
       "      <td>231.686223</td>\n",
       "      <td>0.788962</td>\n",
       "      <td>0.989648</td>\n",
       "      <td>0.888380</td>\n",
       "      <td>0.784997</td>\n",
       "      <td>0.007001</td>\n",
       "      <td>0.001640</td>\n",
       "      <td>0.616221</td>\n",
       "      <td>0.998180</td>\n",
       "      <td>DERMASON</td>\n",
       "    </tr>\n",
       "  </tbody>\n",
       "</table>\n",
       "<p>13611 rows × 17 columns</p>\n",
       "</div>"
      ],
      "text/plain": [
       "        Area  Perimeter  MajorAxisLength  MinorAxisLength  AspectRatio  \\\n",
       "0      28395    610.291       208.178117       173.888747     1.197191   \n",
       "1      28734    638.018       200.524796       182.734419     1.097356   \n",
       "2      29380    624.110       212.826130       175.931143     1.209713   \n",
       "3      30008    645.884       210.557999       182.516516     1.153638   \n",
       "4      30140    620.134       201.847882       190.279279     1.060798   \n",
       "...      ...        ...              ...              ...          ...   \n",
       "13606  42097    759.696       288.721612       185.944705     1.552728   \n",
       "13607  42101    757.499       281.576392       190.713136     1.476439   \n",
       "13608  42139    759.321       281.539928       191.187979     1.472582   \n",
       "13609  42147    763.779       283.382636       190.275731     1.489326   \n",
       "13610  42159    772.237       295.142741       182.204716     1.619841   \n",
       "\n",
       "       Eccentricity  ConvexArea  EquivDiameter    Extent  Solidity  Roundness  \\\n",
       "0          0.549812       28715     190.141097  0.763923  0.988856   0.958027   \n",
       "1          0.411785       29172     191.272751  0.783968  0.984986   0.887034   \n",
       "2          0.562727       29690     193.410904  0.778113  0.989559   0.947849   \n",
       "3          0.498616       30724     195.467062  0.782681  0.976696   0.903936   \n",
       "4          0.333680       30417     195.896503  0.773098  0.990893   0.984877   \n",
       "...             ...         ...            ...       ...       ...        ...   \n",
       "13606      0.765002       42508     231.515799  0.714574  0.990331   0.916603   \n",
       "13607      0.735702       42494     231.526798  0.799943  0.990752   0.922015   \n",
       "13608      0.734065       42569     231.631261  0.729932  0.989899   0.918424   \n",
       "13609      0.741055       42667     231.653247  0.705389  0.987813   0.907906   \n",
       "13610      0.786693       42600     231.686223  0.788962  0.989648   0.888380   \n",
       "\n",
       "       Compactness  ShapeFactor1  ShapeFactor2  ShapeFactor3  ShapeFactor4  \\\n",
       "0         0.913358      0.007332      0.003147      0.834222      0.998724   \n",
       "1         0.953861      0.006979      0.003564      0.909851      0.998430   \n",
       "2         0.908774      0.007244      0.003048      0.825871      0.999066   \n",
       "3         0.928329      0.007017      0.003215      0.861794      0.994199   \n",
       "4         0.970516      0.006697      0.003665      0.941900      0.999166   \n",
       "...            ...           ...           ...           ...           ...   \n",
       "13606     0.801865      0.006858      0.001749      0.642988      0.998385   \n",
       "13607     0.822252      0.006688      0.001886      0.676099      0.998219   \n",
       "13608     0.822730      0.006681      0.001888      0.676884      0.996767   \n",
       "13609     0.817457      0.006724      0.001852      0.668237      0.995222   \n",
       "13610     0.784997      0.007001      0.001640      0.616221      0.998180   \n",
       "\n",
       "          Class  \n",
       "0         SEKER  \n",
       "1         SEKER  \n",
       "2         SEKER  \n",
       "3         SEKER  \n",
       "4         SEKER  \n",
       "...         ...  \n",
       "13606  DERMASON  \n",
       "13607  DERMASON  \n",
       "13608  DERMASON  \n",
       "13609  DERMASON  \n",
       "13610  DERMASON  \n",
       "\n",
       "[13611 rows x 17 columns]"
      ]
     },
     "execution_count": 4,
     "metadata": {},
     "output_type": "execute_result"
    }
   ],
   "source": [
    "# This function drops any null columns and missing values\n",
    "# This is where you decide whether to remove NULL rows (which will reduce the size of Dataset) or remove NULL columns entirely. You can also choose a combination of both.\n",
    "def clean_data(df, drop_columns, missing_value):\n",
    "    # Remove unnecessary columns\n",
    "    df.drop(drop_columns, axis=1, inplace=True)\n",
    "    # Drop rows with any missing values\n",
    "    if missing_value == False:\n",
    "        df.dropna(inplace=True)\n",
    "    else:\n",
    "        df.fillna(missing_value, inplace=True)\n",
    "    return df\n",
    "\n",
    "clean_data(original,null_cols,False)"
   ]
  },
  {
   "cell_type": "code",
   "execution_count": 5,
   "metadata": {},
   "outputs": [
    {
     "name": "stdout",
     "output_type": "stream",
     "text": [
      "Categorical columns: Index(['Class'], dtype='object')\n",
      "Numerical columns: Index(['Area', 'Perimeter', 'MajorAxisLength', 'MinorAxisLength',\n",
      "       'AspectRatio', 'Eccentricity', 'ConvexArea', 'EquivDiameter', 'Extent',\n",
      "       'Solidity', 'Roundness', 'Compactness', 'ShapeFactor1', 'ShapeFactor2',\n",
      "       'ShapeFactor3', 'ShapeFactor4'],\n",
      "      dtype='object')\n"
     ]
    },
    {
     "data": {
      "text/html": [
       "<div>\n",
       "<style scoped>\n",
       "    .dataframe tbody tr th:only-of-type {\n",
       "        vertical-align: middle;\n",
       "    }\n",
       "\n",
       "    .dataframe tbody tr th {\n",
       "        vertical-align: top;\n",
       "    }\n",
       "\n",
       "    .dataframe thead th {\n",
       "        text-align: right;\n",
       "    }\n",
       "</style>\n",
       "<table border=\"1\" class=\"dataframe\">\n",
       "  <thead>\n",
       "    <tr style=\"text-align: right;\">\n",
       "      <th></th>\n",
       "      <th>Area</th>\n",
       "      <th>Perimeter</th>\n",
       "      <th>MajorAxisLength</th>\n",
       "      <th>MinorAxisLength</th>\n",
       "      <th>AspectRatio</th>\n",
       "      <th>Eccentricity</th>\n",
       "      <th>ConvexArea</th>\n",
       "      <th>EquivDiameter</th>\n",
       "      <th>Extent</th>\n",
       "      <th>Solidity</th>\n",
       "      <th>Roundness</th>\n",
       "      <th>Compactness</th>\n",
       "      <th>ShapeFactor1</th>\n",
       "      <th>ShapeFactor2</th>\n",
       "      <th>ShapeFactor3</th>\n",
       "      <th>ShapeFactor4</th>\n",
       "      <th>Class</th>\n",
       "    </tr>\n",
       "  </thead>\n",
       "  <tbody>\n",
       "    <tr>\n",
       "      <th>0</th>\n",
       "      <td>-0.840749</td>\n",
       "      <td>-1.143319</td>\n",
       "      <td>-1.306598</td>\n",
       "      <td>-0.631153</td>\n",
       "      <td>-1.565053</td>\n",
       "      <td>-2.185720</td>\n",
       "      <td>-0.841451</td>\n",
       "      <td>-1.063341</td>\n",
       "      <td>0.289087</td>\n",
       "      <td>0.367614</td>\n",
       "      <td>1.423867</td>\n",
       "      <td>1.839116</td>\n",
       "      <td>0.680786</td>\n",
       "      <td>2.402173</td>\n",
       "      <td>1.925723</td>\n",
       "      <td>0.838371</td>\n",
       "      <td>5</td>\n",
       "    </tr>\n",
       "    <tr>\n",
       "      <th>1</th>\n",
       "      <td>-0.829188</td>\n",
       "      <td>-1.013924</td>\n",
       "      <td>-1.395911</td>\n",
       "      <td>-0.434445</td>\n",
       "      <td>-1.969784</td>\n",
       "      <td>-3.686040</td>\n",
       "      <td>-0.826102</td>\n",
       "      <td>-1.044217</td>\n",
       "      <td>0.697477</td>\n",
       "      <td>-0.462907</td>\n",
       "      <td>0.231054</td>\n",
       "      <td>2.495449</td>\n",
       "      <td>0.367967</td>\n",
       "      <td>3.100894</td>\n",
       "      <td>2.689702</td>\n",
       "      <td>0.771138</td>\n",
       "      <td>5</td>\n",
       "    </tr>\n",
       "    <tr>\n",
       "      <th>2</th>\n",
       "      <td>-0.807157</td>\n",
       "      <td>-1.078829</td>\n",
       "      <td>-1.252357</td>\n",
       "      <td>-0.585735</td>\n",
       "      <td>-1.514291</td>\n",
       "      <td>-2.045336</td>\n",
       "      <td>-0.808704</td>\n",
       "      <td>-1.008084</td>\n",
       "      <td>0.578195</td>\n",
       "      <td>0.518417</td>\n",
       "      <td>1.252865</td>\n",
       "      <td>1.764843</td>\n",
       "      <td>0.603129</td>\n",
       "      <td>2.235091</td>\n",
       "      <td>1.841356</td>\n",
       "      <td>0.916755</td>\n",
       "      <td>5</td>\n",
       "    </tr>\n",
       "    <tr>\n",
       "      <th>3</th>\n",
       "      <td>-0.785741</td>\n",
       "      <td>-0.977215</td>\n",
       "      <td>-1.278825</td>\n",
       "      <td>-0.439290</td>\n",
       "      <td>-1.741618</td>\n",
       "      <td>-2.742211</td>\n",
       "      <td>-0.773975</td>\n",
       "      <td>-0.973337</td>\n",
       "      <td>0.671260</td>\n",
       "      <td>-2.241767</td>\n",
       "      <td>0.515049</td>\n",
       "      <td>2.081715</td>\n",
       "      <td>0.401718</td>\n",
       "      <td>2.515075</td>\n",
       "      <td>2.204250</td>\n",
       "      <td>-0.197985</td>\n",
       "      <td>5</td>\n",
       "    </tr>\n",
       "    <tr>\n",
       "      <th>4</th>\n",
       "      <td>-0.781239</td>\n",
       "      <td>-1.097384</td>\n",
       "      <td>-1.380471</td>\n",
       "      <td>-0.266663</td>\n",
       "      <td>-2.117993</td>\n",
       "      <td>-4.535028</td>\n",
       "      <td>-0.784286</td>\n",
       "      <td>-0.966080</td>\n",
       "      <td>0.476020</td>\n",
       "      <td>0.804772</td>\n",
       "      <td>1.874992</td>\n",
       "      <td>2.765330</td>\n",
       "      <td>0.118268</td>\n",
       "      <td>3.270983</td>\n",
       "      <td>3.013462</td>\n",
       "      <td>0.939640</td>\n",
       "      <td>5</td>\n",
       "    </tr>\n",
       "    <tr>\n",
       "      <th>...</th>\n",
       "      <td>...</td>\n",
       "      <td>...</td>\n",
       "      <td>...</td>\n",
       "      <td>...</td>\n",
       "      <td>...</td>\n",
       "      <td>...</td>\n",
       "      <td>...</td>\n",
       "      <td>...</td>\n",
       "      <td>...</td>\n",
       "      <td>...</td>\n",
       "      <td>...</td>\n",
       "      <td>...</td>\n",
       "      <td>...</td>\n",
       "      <td>...</td>\n",
       "      <td>...</td>\n",
       "      <td>...</td>\n",
       "      <td>...</td>\n",
       "    </tr>\n",
       "    <tr>\n",
       "      <th>13606</th>\n",
       "      <td>-0.373471</td>\n",
       "      <td>-0.446083</td>\n",
       "      <td>-0.366669</td>\n",
       "      <td>-0.363055</td>\n",
       "      <td>-0.123703</td>\n",
       "      <td>0.153343</td>\n",
       "      <td>-0.378191</td>\n",
       "      <td>-0.364148</td>\n",
       "      <td>-0.716284</td>\n",
       "      <td>0.684173</td>\n",
       "      <td>0.727872</td>\n",
       "      <td>0.032433</td>\n",
       "      <td>0.261424</td>\n",
       "      <td>0.055629</td>\n",
       "      <td>-0.006086</td>\n",
       "      <td>0.760813</td>\n",
       "      <td>3</td>\n",
       "    </tr>\n",
       "    <tr>\n",
       "      <th>13607</th>\n",
       "      <td>-0.373334</td>\n",
       "      <td>-0.456336</td>\n",
       "      <td>-0.450053</td>\n",
       "      <td>-0.257015</td>\n",
       "      <td>-0.432979</td>\n",
       "      <td>-0.165141</td>\n",
       "      <td>-0.378662</td>\n",
       "      <td>-0.363962</td>\n",
       "      <td>1.022933</td>\n",
       "      <td>0.774384</td>\n",
       "      <td>0.818807</td>\n",
       "      <td>0.362794</td>\n",
       "      <td>0.110383</td>\n",
       "      <td>0.285117</td>\n",
       "      <td>0.328393</td>\n",
       "      <td>0.722659</td>\n",
       "      <td>3</td>\n",
       "    </tr>\n",
       "    <tr>\n",
       "      <th>13608</th>\n",
       "      <td>-0.372038</td>\n",
       "      <td>-0.447833</td>\n",
       "      <td>-0.450478</td>\n",
       "      <td>-0.246456</td>\n",
       "      <td>-0.448618</td>\n",
       "      <td>-0.182940</td>\n",
       "      <td>-0.376143</td>\n",
       "      <td>-0.362197</td>\n",
       "      <td>-0.403392</td>\n",
       "      <td>0.591370</td>\n",
       "      <td>0.758468</td>\n",
       "      <td>0.370533</td>\n",
       "      <td>0.104270</td>\n",
       "      <td>0.289205</td>\n",
       "      <td>0.336328</td>\n",
       "      <td>0.390251</td>\n",
       "      <td>3</td>\n",
       "    </tr>\n",
       "    <tr>\n",
       "      <th>13609</th>\n",
       "      <td>-0.371765</td>\n",
       "      <td>-0.427029</td>\n",
       "      <td>-0.428974</td>\n",
       "      <td>-0.266742</td>\n",
       "      <td>-0.380735</td>\n",
       "      <td>-0.106960</td>\n",
       "      <td>-0.372851</td>\n",
       "      <td>-0.361825</td>\n",
       "      <td>-0.903414</td>\n",
       "      <td>0.143717</td>\n",
       "      <td>0.581753</td>\n",
       "      <td>0.285098</td>\n",
       "      <td>0.141907</td>\n",
       "      <td>0.228375</td>\n",
       "      <td>0.248973</td>\n",
       "      <td>0.036440</td>\n",
       "      <td>3</td>\n",
       "    </tr>\n",
       "    <tr>\n",
       "      <th>13610</th>\n",
       "      <td>-0.371356</td>\n",
       "      <td>-0.387557</td>\n",
       "      <td>-0.291736</td>\n",
       "      <td>-0.446224</td>\n",
       "      <td>0.148374</td>\n",
       "      <td>0.389116</td>\n",
       "      <td>-0.375101</td>\n",
       "      <td>-0.361268</td>\n",
       "      <td>0.799227</td>\n",
       "      <td>0.537539</td>\n",
       "      <td>0.253681</td>\n",
       "      <td>-0.240904</td>\n",
       "      <td>0.387512</td>\n",
       "      <td>-0.127775</td>\n",
       "      <td>-0.276481</td>\n",
       "      <td>0.713719</td>\n",
       "      <td>3</td>\n",
       "    </tr>\n",
       "  </tbody>\n",
       "</table>\n",
       "<p>13611 rows × 17 columns</p>\n",
       "</div>"
      ],
      "text/plain": [
       "           Area  Perimeter  MajorAxisLength  MinorAxisLength  AspectRatio  \\\n",
       "0     -0.840749  -1.143319        -1.306598        -0.631153    -1.565053   \n",
       "1     -0.829188  -1.013924        -1.395911        -0.434445    -1.969784   \n",
       "2     -0.807157  -1.078829        -1.252357        -0.585735    -1.514291   \n",
       "3     -0.785741  -0.977215        -1.278825        -0.439290    -1.741618   \n",
       "4     -0.781239  -1.097384        -1.380471        -0.266663    -2.117993   \n",
       "...         ...        ...              ...              ...          ...   \n",
       "13606 -0.373471  -0.446083        -0.366669        -0.363055    -0.123703   \n",
       "13607 -0.373334  -0.456336        -0.450053        -0.257015    -0.432979   \n",
       "13608 -0.372038  -0.447833        -0.450478        -0.246456    -0.448618   \n",
       "13609 -0.371765  -0.427029        -0.428974        -0.266742    -0.380735   \n",
       "13610 -0.371356  -0.387557        -0.291736        -0.446224     0.148374   \n",
       "\n",
       "       Eccentricity  ConvexArea  EquivDiameter    Extent  Solidity  Roundness  \\\n",
       "0         -2.185720   -0.841451      -1.063341  0.289087  0.367614   1.423867   \n",
       "1         -3.686040   -0.826102      -1.044217  0.697477 -0.462907   0.231054   \n",
       "2         -2.045336   -0.808704      -1.008084  0.578195  0.518417   1.252865   \n",
       "3         -2.742211   -0.773975      -0.973337  0.671260 -2.241767   0.515049   \n",
       "4         -4.535028   -0.784286      -0.966080  0.476020  0.804772   1.874992   \n",
       "...             ...         ...            ...       ...       ...        ...   \n",
       "13606      0.153343   -0.378191      -0.364148 -0.716284  0.684173   0.727872   \n",
       "13607     -0.165141   -0.378662      -0.363962  1.022933  0.774384   0.818807   \n",
       "13608     -0.182940   -0.376143      -0.362197 -0.403392  0.591370   0.758468   \n",
       "13609     -0.106960   -0.372851      -0.361825 -0.903414  0.143717   0.581753   \n",
       "13610      0.389116   -0.375101      -0.361268  0.799227  0.537539   0.253681   \n",
       "\n",
       "       Compactness  ShapeFactor1  ShapeFactor2  ShapeFactor3  ShapeFactor4  \\\n",
       "0         1.839116      0.680786      2.402173      1.925723      0.838371   \n",
       "1         2.495449      0.367967      3.100894      2.689702      0.771138   \n",
       "2         1.764843      0.603129      2.235091      1.841356      0.916755   \n",
       "3         2.081715      0.401718      2.515075      2.204250     -0.197985   \n",
       "4         2.765330      0.118268      3.270983      3.013462      0.939640   \n",
       "...            ...           ...           ...           ...           ...   \n",
       "13606     0.032433      0.261424      0.055629     -0.006086      0.760813   \n",
       "13607     0.362794      0.110383      0.285117      0.328393      0.722659   \n",
       "13608     0.370533      0.104270      0.289205      0.336328      0.390251   \n",
       "13609     0.285098      0.141907      0.228375      0.248973      0.036440   \n",
       "13610    -0.240904      0.387512     -0.127775     -0.276481      0.713719   \n",
       "\n",
       "       Class  \n",
       "0          5  \n",
       "1          5  \n",
       "2          5  \n",
       "3          5  \n",
       "4          5  \n",
       "...      ...  \n",
       "13606      3  \n",
       "13607      3  \n",
       "13608      3  \n",
       "13609      3  \n",
       "13610      3  \n",
       "\n",
       "[13611 rows x 17 columns]"
      ]
     },
     "execution_count": 5,
     "metadata": {},
     "output_type": "execute_result"
    }
   ],
   "source": [
    "# Transforms categorical and numberical data into numerical data\n",
    "def transform_data(df):\n",
    "    # Encode categorical variables\n",
    "    label_encoder = LabelEncoder()\n",
    "    print(\"Categorical columns:\", df.select_dtypes(include=['object']).columns)\n",
    "    for col in df.select_dtypes(include=['object']).columns:\n",
    "        df[col] = label_encoder.fit_transform(df[col])\n",
    "    \n",
    "    # Standardize numerical features\n",
    "    scaler = StandardScaler()\n",
    "    print(\"Numerical columns:\", df.select_dtypes(include=['float64', 'int64']).columns)\n",
    "    numerical_cols = df.select_dtypes(include=['float64', 'int64']).columns\n",
    "    if len(numerical_cols) > 0:\n",
    "        df[numerical_cols] = scaler.fit_transform(df[numerical_cols])\n",
    "    return df\n",
    "\n",
    "transform_data(original)"
   ]
  },
  {
   "cell_type": "code",
   "execution_count": 6,
   "metadata": {},
   "outputs": [
    {
     "data": {
      "image/png": "[encoded data removed]",
      "text/plain": [
       "<Figure size 720x720 with 20 Axes>"
      ]
     },
     "metadata": {
      "needs_background": "light"
     },
     "output_type": "display_data"
    },
    {
     "data": {
      "image/png": "[encoded data removed]",
      "text/plain": [
       "<Figure size 432x288 with 1 Axes>"
      ]
     },
     "metadata": {
      "needs_background": "light"
     },
     "output_type": "display_data"
    },
    {
     "data": {
      "image/png": "[encoded data removed]",
      "text/plain": [
       "<Figure size 432x288 with 1 Axes>"
      ]
     },
     "metadata": {
      "needs_background": "light"
     },
     "output_type": "display_data"
    },
    {
     "data": {
      "image/png": "[encoded data removed]",
      "text/plain": [
       "<Figure size 432x288 with 1 Axes>"
      ]
     },
     "metadata": {
      "needs_background": "light"
     },
     "output_type": "display_data"
    },
    {
     "data": {
      "image/png": "[encoded data removed]",
      "text/plain": [
       "<Figure size 432x288 with 1 Axes>"
      ]
     },
     "metadata": {
      "needs_background": "light"
     },
     "output_type": "display_data"
    },
    {
     "data": {
      "image/png": "[encoded data removed]",
      "text/plain": [
       "<Figure size 432x288 with 1 Axes>"
      ]
     },
     "metadata": {
      "needs_background": "light"
     },
     "output_type": "display_data"
    },
    {
     "data": {
      "image/png": "[encoded data removed]",
      "text/plain": [
       "<Figure size 432x288 with 1 Axes>"
      ]
     },
     "metadata": {
      "needs_background": "light"
     },
     "output_type": "display_data"
    },
    {
     "data": {
      "image/png": "[encoded data removed]",
      "text/plain": [
       "<Figure size 432x288 with 1 Axes>"
      ]
     },
     "metadata": {
      "needs_background": "light"
     },
     "output_type": "display_data"
    },
    {
     "data": {
      "image/png": "[encoded data removed]",
      "text/plain": [
       "<Figure size 432x288 with 1 Axes>"
      ]
     },
     "metadata": {
      "needs_background": "light"
     },
     "output_type": "display_data"
    },
    {
     "data": {
      "image/png": "[encoded data removed]",
      "text/plain": [
       "<Figure size 432x288 with 1 Axes>"
      ]
     },
     "metadata": {
      "needs_background": "light"
     },
     "output_type": "display_data"
    },
    {
     "data": {
      "image/png": "[encoded data removed]",
      "text/plain": [
       "<Figure size 432x288 with 1 Axes>"
      ]
     },
     "metadata": {
      "needs_background": "light"
     },
     "output_type": "display_data"
    },
    {
     "data": {
      "image/png": "[encoded data removed]",
      "text/plain": [
       "<Figure size 432x288 with 1 Axes>"
      ]
     },
     "metadata": {
      "needs_background": "light"
     },
     "output_type": "display_data"
    },
    {
     "data": {
      "image/png": "[encoded data removed]",
      "text/plain": [
       "<Figure size 432x288 with 1 Axes>"
      ]
     },
     "metadata": {
      "needs_background": "light"
     },
     "output_type": "display_data"
    },
    {
     "data": {
      "image/png": "[encoded data removed]",
      "text/plain": [
       "<Figure size 432x288 with 1 Axes>"
      ]
     },
     "metadata": {
      "needs_background": "light"
     },
     "output_type": "display_data"
    },
    {
     "data": {
      "image/png": "[encoded data removed]",
      "text/plain": [
       "<Figure size 432x288 with 1 Axes>"
      ]
     },
     "metadata": {
      "needs_background": "light"
     },
     "output_type": "display_data"
    },
    {
     "data": {
      "image/png": "[encoded data removed]",
      "text/plain": [
       "<Figure size 432x288 with 1 Axes>"
      ]
     },
     "metadata": {
      "needs_background": "light"
     },
     "output_type": "display_data"
    },
    {
     "data": {
      "image/png": "[encoded data removed]",
      "text/plain": [
       "<Figure size 432x288 with 1 Axes>"
      ]
     },
     "metadata": {
      "needs_background": "light"
     },
     "output_type": "display_data"
    }
   ],
   "source": [
    "# Creates histograms for categorical data\n",
    "def plot_histograms(df):\n",
    "    df.hist(figsize=(10, 10))\n",
    "    plt.show()\n",
    "\n",
    "# Creates boxplot for numerical data\n",
    "def plot_boxplots(df):\n",
    "    for col in df.select_dtypes(include=['float64', 'int64']).columns:\n",
    "        sns.boxplot(x=df[col])\n",
    "        plt.show()\n",
    "\n",
    "plot_histograms(original)\n",
    "plot_boxplots(original)"
   ]
  },
  {
   "cell_type": "code",
   "execution_count": 7,
   "metadata": {},
   "outputs": [],
   "source": [
    "def outlier_removal(df, excluded_columns = []):\n",
    "    for column in df.select_dtypes(include=['float64', 'int64']).columns:\n",
    "        if column not in excluded_columns:\n",
    "            # Calculate Q1, Q3, and IQR\n",
    "            Q1 = df[column].quantile(0.25)\n",
    "            Q3 = df[column].quantile(0.75)\n",
    "            IQR = Q3 - Q1\n",
    "\n",
    "            # Define the range for outliers\n",
    "            lower_bound = Q1 - 1.5 * IQR\n",
    "            upper_bound = Q3 + 1.5 * IQR\n",
    "\n",
    "            # Filter out outliers\n",
    "            df = df[(df[column] >= lower_bound) & (df[column] <= upper_bound)]\n",
    "    return df"
   ]
  },
  {
   "cell_type": "code",
   "execution_count": 8,
   "metadata": {},
   "outputs": [],
   "source": [
    "def generate_summary_statistics(original):\n",
    "    \"\"\"\n",
    "    Generate summary statistics for a given DataFrame.\n",
    "\n",
    "    Parameters:\n",
    "    df (DataFrame): Input DataFrame.\n",
    "\n",
    "    Returns:\n",
    "    DataFrame: Summary statistics DataFrame.\n",
    "    \"\"\"\n",
    "    # Compute mean\n",
    "    mean = original.mean()\n",
    "\n",
    "    # Compute mode\n",
    "    mode = original.mode().iloc[0]  # Mode may have multiple values, so we take the first one\n",
    "\n",
    "    # Compute median\n",
    "    median = original.median()\n",
    "\n",
    "    # Compute quartiles\n",
    "    quartiles = original.quantile([0.25, 0.5, 0.75])\n",
    "\n",
    "    # Compute minimum and maximum\n",
    "    minimum = original.min()\n",
    "    maximum = original.max()\n",
    "\n",
    "    # Combine the results into a DataFrame for easier visualization\n",
    "    summary_df = pd.DataFrame({\n",
    "        'Mean': mean,\n",
    "        'Mode': mode,\n",
    "        'Median': median,\n",
    "        'Q1': quartiles.loc[0.25],\n",
    "        'Q2': quartiles.loc[0.5],\n",
    "        'Q3': quartiles.loc[0.75],\n",
    "        'Minimum': minimum,\n",
    "        'Maximum': maximum\n",
    "    })\n",
    "\n",
    "    return summary_df"
   ]
  },
  {
   "cell_type": "code",
   "execution_count": 9,
   "metadata": {},
   "outputs": [],
   "source": [
    "# Performs data splitting on a 80:20 ratio\n",
    "def split_data(df, target_name):\n",
    "    X = df.drop(target_name, axis=1)\n",
    "    y = df[target_name]\n",
    "    return train_test_split(X, y, test_size=0.2, stratify=y, random_state=42)\n",
    "\n",
    "# Performs training and evaluation\n",
    "def train_and_evaluate(X_train, X_test, y_train, y_test):\n",
    "    model = KNeighborsClassifier()\n",
    "    model.fit(X_train, y_train)\n",
    "    predictions = model.predict(X_test)\n",
    "    print(classification_report(y_test, predictions))\n",
    "    print(\"Accuracy:\", accuracy_score(y_test, predictions))"
   ]
  },
  {
   "cell_type": "code",
   "execution_count": 10,
   "metadata": {},
   "outputs": [],
   "source": [
    "def knn_cross_validation(features, targets, n_neighbors=5, n_splits=5, random_state=42):\n",
    "    \"\"\"\n",
    "    Perform k-fold cross-validation using K-Nearest Neighbors classifier.\n",
    "\n",
    "    Parameters:\n",
    "    - features: The feature matrix.\n",
    "    - targets: The target vector.\n",
    "    - n_neighbors: The number of neighbors for KNN (default is 5).\n",
    "    - n_splits: The number of splits for k-fold cross-validation (default is 5).\n",
    "    - random_state: The random state for reproducibility (default is 42).\n",
    "\n",
    "    Returns:\n",
    "    - scores: Array containing the cross-validation scores for each fold.\n",
    "    - mean_accuracy: Mean accuracy of the cross-validation scores.\n",
    "    - std_accuracy: Standard deviation of the cross-validation scores.\n",
    "    \"\"\"\n",
    "    # Initialize the KNN classifier\n",
    "    knn_classifier = KNeighborsClassifier(n_neighbors=n_neighbors)\n",
    "\n",
    "    # Initialize k-fold cross-validation\n",
    "    k_fold = KFold(n_splits=n_splits, shuffle=True, random_state=random_state)\n",
    "\n",
    "    # Perform cross-validation and compute scores\n",
    "    scores = cross_val_score(knn_classifier, features, targets, cv=k_fold, scoring='accuracy')\n",
    "\n",
    "    # Calculate mean and standard deviation of the scores\n",
    "    mean_accuracy = scores.mean()\n",
    "    std_accuracy = scores.std()\n",
    "\n",
    "    return scores, mean_accuracy, std_accuracy\n",
    "\n",
    "# Example usage:\n",
    "# Assuming you have your features X and targets y loaded already\n",
    "# Call the function to perform k-fold cross-validation with KNN"
   ]
  },
  {
   "cell_type": "code",
   "execution_count": 11,
   "metadata": {},
   "outputs": [],
   "source": [
    "# Master Workflow, combines and manages all the workflow from one place\n",
    "# Specifically Tailored for Mushroom Dataset\n",
    "def master_workflow():\n",
    "    features, targets, original = load_dataset()\n",
    "    # Perform an extra-step to convert wine-quality(target) to a categorical column where a rating of 5 or above mean good wine else bad\n",
    "    null_cols = null_check(original)\n",
    "    original = clean_data(original,null_cols,False)\n",
    "    original = transform_data(original)\n",
    "    plot_histograms(original)\n",
    "    plot_boxplots(original)\n",
    "    summary_statistics = generate_summary_statistics(original)\n",
    "    print(summary_statistics)\n",
    "    X_train, X_test, y_train, y_test = split_data(original, targets.columns[0])\n",
    "    train_and_evaluate(X_train, X_test, y_train, y_test)\n",
    "    print(\"Cross-Validation with KNN Classifier\")\n",
    "    cv_scores, mean_accuracy, std_accuracy = knn_cross_validation(features, targets)\n",
    "    print(\"Cross-Validation Scores:\", cv_scores)\n",
    "    print(\"Mean Accuracy:\", mean_accuracy)\n",
    "    print(\"Standard Deviation of Accuracy:\", std_accuracy)"
   ]
  },
  {
   "cell_type": "code",
   "execution_count": 12,
   "metadata": {},
   "outputs": [],
   "source": [
    "import lazypredict\n",
    "from lazypredict.Supervised import LazyClassifier"
   ]
  },
  {
   "cell_type": "code",
   "execution_count": 13,
   "metadata": {},
   "outputs": [],
   "source": [
    "clf = LazyClassifier(verbose=0, ignore_warnings=False, custom_metric=None, predictions=True)"
   ]
  },
  {
   "cell_type": "code",
   "execution_count": 14,
   "metadata": {},
   "outputs": [
    {
     "name": "stderr",
     "output_type": "stream",
     "text": [
      "  3%|▎         | 1/29 [00:01<00:44,  1.60s/it]"
     ]
    },
    {
     "name": "stdout",
     "output_type": "stream",
     "text": [
      "ROC AUC couldn't be calculated for AdaBoostClassifier\n",
      "multi_class must be in ('ovo', 'ovr')\n"
     ]
    },
    {
     "name": "stderr",
     "output_type": "stream",
     "text": [
      "\r",
      "  7%|▋         | 2/29 [00:03<00:42,  1.57s/it]"
     ]
    },
    {
     "name": "stdout",
     "output_type": "stream",
     "text": [
      "ROC AUC couldn't be calculated for BaggingClassifier\n",
      "multi_class must be in ('ovo', 'ovr')\n",
      "ROC AUC couldn't be calculated for BernoulliNB\n",
      "multi_class must be in ('ovo', 'ovr')\n"
     ]
    },
    {
     "name": "stderr",
     "output_type": "stream",
     "text": [
      "\r",
      " 14%|█▍        | 4/29 [00:08<00:56,  2.25s/it]"
     ]
    },
    {
     "name": "stdout",
     "output_type": "stream",
     "text": [
      "ROC AUC couldn't be calculated for CalibratedClassifierCV\n",
      "multi_class must be in ('ovo', 'ovr')\n",
      "CategoricalNB model failed to execute\n",
      "Negative values in data passed to CategoricalNB (input X)\n"
     ]
    },
    {
     "name": "stderr",
     "output_type": "stream",
     "text": [
      "\r",
      " 21%|██        | 6/29 [00:08<00:29,  1.28s/it]"
     ]
    },
    {
     "name": "stdout",
     "output_type": "stream",
     "text": [
      "ROC AUC couldn't be calculated for DecisionTreeClassifier\n",
      "multi_class must be in ('ovo', 'ovr')\n",
      "ROC AUC couldn't be calculated for DummyClassifier\n",
      "multi_class must be in ('ovo', 'ovr')\n",
      "ROC AUC couldn't be calculated for ExtraTreeClassifier\n",
      "multi_class must be in ('ovo', 'ovr')\n"
     ]
    },
    {
     "name": "stderr",
     "output_type": "stream",
     "text": [
      "\r",
      " 31%|███       | 9/29 [00:09<00:16,  1.22it/s]"
     ]
    },
    {
     "name": "stdout",
     "output_type": "stream",
     "text": [
      "ROC AUC couldn't be calculated for ExtraTreesClassifier\n",
      "multi_class must be in ('ovo', 'ovr')\n",
      "ROC AUC couldn't be calculated for GaussianNB\n",
      "multi_class must be in ('ovo', 'ovr')\n"
     ]
    },
    {
     "name": "stderr",
     "output_type": "stream",
     "text": [
      "\r",
      " 38%|███▊      | 11/29 [00:10<00:12,  1.47it/s]"
     ]
    },
    {
     "name": "stdout",
     "output_type": "stream",
     "text": [
      "ROC AUC couldn't be calculated for KNeighborsClassifier\n",
      "multi_class must be in ('ovo', 'ovr')\n"
     ]
    },
    {
     "name": "stderr",
     "output_type": "stream",
     "text": [
      "\r",
      " 41%|████▏     | 12/29 [00:16<00:28,  1.65s/it]"
     ]
    },
    {
     "name": "stdout",
     "output_type": "stream",
     "text": [
      "ROC AUC couldn't be calculated for LabelPropagation\n",
      "multi_class must be in ('ovo', 'ovr')\n"
     ]
    },
    {
     "name": "stderr",
     "output_type": "stream",
     "text": [
      "\r",
      " 45%|████▍     | 13/29 [00:25<00:50,  3.18s/it]"
     ]
    },
    {
     "name": "stdout",
     "output_type": "stream",
     "text": [
      "ROC AUC couldn't be calculated for LabelSpreading\n",
      "multi_class must be in ('ovo', 'ovr')\n",
      "ROC AUC couldn't be calculated for LinearDiscriminantAnalysis\n",
      "multi_class must be in ('ovo', 'ovr')\n"
     ]
    },
    {
     "name": "stderr",
     "output_type": "stream",
     "text": [
      "\r",
      " 52%|█████▏    | 15/29 [00:26<00:30,  2.21s/it]"
     ]
    },
    {
     "name": "stdout",
     "output_type": "stream",
     "text": [
      "ROC AUC couldn't be calculated for LinearSVC\n",
      "multi_class must be in ('ovo', 'ovr')\n"
     ]
    },
    {
     "name": "stderr",
     "output_type": "stream",
     "text": [
      " 66%|██████▌   | 19/29 [00:27<00:10,  1.01s/it]"
     ]
    },
    {
     "name": "stdout",
     "output_type": "stream",
     "text": [
      "ROC AUC couldn't be calculated for LogisticRegression\n",
      "multi_class must be in ('ovo', 'ovr')\n",
      "ROC AUC couldn't be calculated for NearestCentroid\n",
      "multi_class must be in ('ovo', 'ovr')\n",
      "NuSVC model failed to execute\n",
      "specified nu is infeasible\n",
      "ROC AUC couldn't be calculated for PassiveAggressiveClassifier\n",
      "multi_class must be in ('ovo', 'ovr')\n"
     ]
    },
    {
     "name": "stderr",
     "output_type": "stream",
     "text": [
      "\r",
      " 69%|██████▉   | 20/29 [00:27<00:07,  1.18it/s]"
     ]
    },
    {
     "name": "stdout",
     "output_type": "stream",
     "text": [
      "ROC AUC couldn't be calculated for Perceptron\n",
      "multi_class must be in ('ovo', 'ovr')\n",
      "ROC AUC couldn't be calculated for QuadraticDiscriminantAnalysis\n",
      "multi_class must be in ('ovo', 'ovr')\n"
     ]
    },
    {
     "name": "stderr",
     "output_type": "stream",
     "text": [
      "\r",
      " 76%|███████▌  | 22/29 [00:31<00:08,  1.21s/it]"
     ]
    },
    {
     "name": "stdout",
     "output_type": "stream",
     "text": [
      "ROC AUC couldn't be calculated for RandomForestClassifier\n",
      "multi_class must be in ('ovo', 'ovr')\n",
      "ROC AUC couldn't be calculated for RidgeClassifier\n",
      "multi_class must be in ('ovo', 'ovr')\n",
      "ROC AUC couldn't be calculated for RidgeClassifierCV\n",
      "multi_class must be in ('ovo', 'ovr')\n"
     ]
    },
    {
     "name": "stderr",
     "output_type": "stream",
     "text": [
      "\r",
      " 86%|████████▌ | 25/29 [00:31<00:02,  1.37it/s]"
     ]
    },
    {
     "name": "stdout",
     "output_type": "stream",
     "text": [
      "ROC AUC couldn't be calculated for SGDClassifier\n",
      "multi_class must be in ('ovo', 'ovr')\n"
     ]
    },
    {
     "name": "stderr",
     "output_type": "stream",
     "text": [
      "\r",
      " 90%|████████▉ | 26/29 [00:33<00:02,  1.12it/s]"
     ]
    },
    {
     "name": "stdout",
     "output_type": "stream",
     "text": [
      "ROC AUC couldn't be calculated for SVC\n",
      "multi_class must be in ('ovo', 'ovr')\n",
      "StackingClassifier model failed to execute\n",
      "__init__() missing 1 required positional argument: 'estimators'\n"
     ]
    },
    {
     "name": "stderr",
     "output_type": "stream",
     "text": [
      "\r",
      " 97%|█████████▋| 28/29 [00:35<00:00,  1.14it/s]"
     ]
    },
    {
     "name": "stdout",
     "output_type": "stream",
     "text": [
      "ROC AUC couldn't be calculated for XGBClassifier\n",
      "multi_class must be in ('ovo', 'ovr')\n",
      "[LightGBM] [Info] Auto-choosing col-wise multi-threading, the overhead of testing was 0.001533 seconds.\n",
      "You can set `force_col_wise=true` to remove the overhead.\n",
      "[LightGBM] [Info] Total Bins 4080\n",
      "[LightGBM] [Info] Number of data points in the train set: 10888, number of used features: 16\n",
      "[LightGBM] [Info] Start training from score -2.332227\n",
      "[LightGBM] [Info] Start training from score -3.259935\n",
      "[LightGBM] [Info] Start training from score -2.122225\n",
      "[LightGBM] [Info] Start training from score -1.344914\n",
      "[LightGBM] [Info] Start training from score -1.954581\n",
      "[LightGBM] [Info] Start training from score -1.904618\n",
      "[LightGBM] [Info] Start training from score -1.641447\n",
      "[LightGBM] [Warning] No further splits with positive gain, best gain: -inf\n",
      "[LightGBM] [Warning] No further splits with positive gain, best gain: -inf\n",
      "[LightGBM] [Warning] No further splits with positive gain, best gain: -inf\n",
      "[LightGBM] [Warning] No further splits with positive gain, best gain: -inf\n",
      "[LightGBM] [Warning] No further splits with positive gain, best gain: -inf\n",
      "[LightGBM] [Warning] No further splits with positive gain, best gain: -inf\n",
      "[LightGBM] [Warning] No further splits with positive gain, best gain: -inf\n",
      "[LightGBM] [Warning] No further splits with positive gain, best gain: -inf\n",
      "[LightGBM] [Warning] No further splits with positive gain, best gain: -inf\n"
     ]
    },
    {
     "name": "stderr",
     "output_type": "stream",
     "text": [
      "100%|██████████| 29/29 [00:36<00:00,  1.26s/it]"
     ]
    },
    {
     "name": "stdout",
     "output_type": "stream",
     "text": [
      "ROC AUC couldn't be calculated for LGBMClassifier\n",
      "multi_class must be in ('ovo', 'ovr')\n"
     ]
    },
    {
     "name": "stderr",
     "output_type": "stream",
     "text": [
      "\n"
     ]
    }
   ],
   "source": [
    "X_train, X_test, y_train, y_test = split_data(original, targets.columns[0])\n",
    "# Generate predictions and evaluate performance\n",
    "models, predictions = clf.fit(X_train, X_test, y_train, y_test)"
   ]
  },
  {
   "cell_type": "code",
   "execution_count": 15,
   "metadata": {},
   "outputs": [
    {
     "name": "stdout",
     "output_type": "stream",
     "text": [
      "                               Accuracy  Balanced Accuracy ROC AUC  F1 Score  \\\n",
      "Model                                                                          \n",
      "XGBClassifier                      0.93               0.94    None      0.93   \n",
      "LGBMClassifier                     0.92               0.93    None      0.92   \n",
      "SVC                                0.92               0.93    None      0.92   \n",
      "LogisticRegression                 0.92               0.93    None      0.92   \n",
      "RandomForestClassifier             0.92               0.93    None      0.92   \n",
      "BaggingClassifier                  0.92               0.93    None      0.92   \n",
      "KNeighborsClassifier               0.92               0.93    None      0.92   \n",
      "CalibratedClassifierCV             0.91               0.93    None      0.92   \n",
      "LinearSVC                          0.91               0.93    None      0.91   \n",
      "ExtraTreesClassifier               0.92               0.93    None      0.92   \n",
      "QuadraticDiscriminantAnalysis      0.91               0.93    None      0.91   \n",
      "SGDClassifier                      0.92               0.92    None      0.92   \n",
      "LabelSpreading                     0.91               0.92    None      0.91   \n",
      "LabelPropagation                   0.91               0.92    None      0.91   \n",
      "LinearDiscriminantAnalysis         0.90               0.92    None      0.91   \n",
      "Perceptron                         0.90               0.91    None      0.90   \n",
      "GaussianNB                         0.90               0.91    None      0.90   \n",
      "DecisionTreeClassifier             0.89               0.91    None      0.89   \n",
      "NearestCentroid                    0.89               0.91    None      0.89   \n",
      "RidgeClassifier                    0.90               0.91    None      0.90   \n",
      "PassiveAggressiveClassifier        0.88               0.90    None      0.88   \n",
      "RidgeClassifierCV                  0.90               0.90    None      0.90   \n",
      "ExtraTreeClassifier                0.87               0.89    None      0.87   \n",
      "BernoulliNB                        0.72               0.68    None      0.71   \n",
      "AdaBoostClassifier                 0.63               0.50    None      0.58   \n",
      "DummyClassifier                    0.26               0.14    None      0.11   \n",
      "\n",
      "                               Time Taken  \n",
      "Model                                      \n",
      "XGBClassifier                        1.69  \n",
      "LGBMClassifier                       1.47  \n",
      "SVC                                  1.72  \n",
      "LogisticRegression                   0.65  \n",
      "RandomForestClassifier               3.75  \n",
      "BaggingClassifier                    1.54  \n",
      "KNeighborsClassifier                 0.75  \n",
      "CalibratedClassifierCV               5.30  \n",
      "LinearSVC                            1.14  \n",
      "ExtraTreesClassifier                 1.06  \n",
      "QuadraticDiscriminantAnalysis        0.04  \n",
      "SGDClassifier                        0.17  \n",
      "LabelSpreading                       8.88  \n",
      "LabelPropagation                     5.86  \n",
      "LinearDiscriminantAnalysis           0.06  \n",
      "Perceptron                           0.11  \n",
      "GaussianNB                           0.02  \n",
      "DecisionTreeClassifier               0.37  \n",
      "NearestCentroid                      0.03  \n",
      "RidgeClassifier                      0.03  \n",
      "PassiveAggressiveClassifier          0.12  \n",
      "RidgeClassifierCV                    0.05  \n",
      "ExtraTreeClassifier                  0.03  \n",
      "BernoulliNB                          0.03  \n",
      "AdaBoostClassifier                   1.60  \n",
      "DummyClassifier                      0.02  \n",
      "      AdaBoostClassifier  BaggingClassifier  BernoulliNB  \\\n",
      "0                      3                  3            3   \n",
      "1                      0                  1            1   \n",
      "2                      6                  6            6   \n",
      "3                      5                  5            5   \n",
      "4                      2                  0            0   \n",
      "...                  ...                ...          ...   \n",
      "2718                   4                  4            4   \n",
      "2719                   3                  5            3   \n",
      "2720                   2                  4            4   \n",
      "2721                   2                  2            2   \n",
      "2722                   3                  3            3   \n",
      "\n",
      "      CalibratedClassifierCV  DecisionTreeClassifier  DummyClassifier  \\\n",
      "0                          3                       3                3   \n",
      "1                          1                       1                3   \n",
      "2                          6                       6                3   \n",
      "3                          5                       5                3   \n",
      "4                          0                       0                3   \n",
      "...                      ...                     ...              ...   \n",
      "2718                       4                       4                3   \n",
      "2719                       5                       5                3   \n",
      "2720                       4                       4                3   \n",
      "2721                       2                       2                3   \n",
      "2722                       3                       3                3   \n",
      "\n",
      "      ExtraTreeClassifier  ExtraTreesClassifier  GaussianNB  \\\n",
      "0                       3                     3           3   \n",
      "1                       1                     1           1   \n",
      "2                       6                     6           6   \n",
      "3                       5                     5           5   \n",
      "4                       0                     0           0   \n",
      "...                   ...                   ...         ...   \n",
      "2718                    4                     4           4   \n",
      "2719                    5                     5           5   \n",
      "2720                    4                     4           4   \n",
      "2721                    2                     2           2   \n",
      "2722                    3                     3           3   \n",
      "\n",
      "      KNeighborsClassifier  ...  PassiveAggressiveClassifier  Perceptron  \\\n",
      "0                        3  ...                            3           3   \n",
      "1                        1  ...                            1           1   \n",
      "2                        6  ...                            6           6   \n",
      "3                        5  ...                            5           5   \n",
      "4                        0  ...                            0           0   \n",
      "...                    ...  ...                          ...         ...   \n",
      "2718                     4  ...                            4           4   \n",
      "2719                     5  ...                            5           5   \n",
      "2720                     4  ...                            4           4   \n",
      "2721                     2  ...                            2           2   \n",
      "2722                     3  ...                            3           3   \n",
      "\n",
      "      QuadraticDiscriminantAnalysis  RandomForestClassifier  RidgeClassifier  \\\n",
      "0                                 3                       3                3   \n",
      "1                                 1                       1                1   \n",
      "2                                 6                       6                6   \n",
      "3                                 5                       5                5   \n",
      "4                                 0                       0                0   \n",
      "...                             ...                     ...              ...   \n",
      "2718                              4                       4                4   \n",
      "2719                              5                       5                5   \n",
      "2720                              4                       4                4   \n",
      "2721                              2                       2                2   \n",
      "2722                              3                       3                3   \n",
      "\n",
      "      RidgeClassifierCV  SGDClassifier  SVC  XGBClassifier  LGBMClassifier  \n",
      "0                     3              3    3              3               3  \n",
      "1                     1              1    1              1               1  \n",
      "2                     6              6    6              6               6  \n",
      "3                     5              5    5              5               5  \n",
      "4                     0              0    0              0               0  \n",
      "...                 ...            ...  ...            ...             ...  \n",
      "2718                  4              4    4              4               4  \n",
      "2719                  5              5    5              5               5  \n",
      "2720                  4              4    4              4               4  \n",
      "2721                  2              2    2              2               2  \n",
      "2722                  3              3    3              3               3  \n",
      "\n",
      "[2723 rows x 26 columns]\n"
     ]
    }
   ],
   "source": [
    "print(models)\n",
    "print(predictions)"
   ]
  },
  {
   "cell_type": "code",
   "execution_count": 16,
   "metadata": {},
   "outputs": [
    {
     "data": {
      "text/html": [
       "<div>\n",
       "<style scoped>\n",
       "    .dataframe tbody tr th:only-of-type {\n",
       "        vertical-align: middle;\n",
       "    }\n",
       "\n",
       "    .dataframe tbody tr th {\n",
       "        vertical-align: top;\n",
       "    }\n",
       "\n",
       "    .dataframe thead th {\n",
       "        text-align: right;\n",
       "    }\n",
       "</style>\n",
       "<table border=\"1\" class=\"dataframe\">\n",
       "  <thead>\n",
       "    <tr style=\"text-align: right;\">\n",
       "      <th></th>\n",
       "      <th>Accuracy</th>\n",
       "      <th>Balanced Accuracy</th>\n",
       "      <th>ROC AUC</th>\n",
       "      <th>F1 Score</th>\n",
       "      <th>Time Taken</th>\n",
       "    </tr>\n",
       "    <tr>\n",
       "      <th>Model</th>\n",
       "      <th></th>\n",
       "      <th></th>\n",
       "      <th></th>\n",
       "      <th></th>\n",
       "      <th></th>\n",
       "    </tr>\n",
       "  </thead>\n",
       "  <tbody>\n",
       "    <tr>\n",
       "      <th>XGBClassifier</th>\n",
       "      <td>0.93</td>\n",
       "      <td>0.94</td>\n",
       "      <td>None</td>\n",
       "      <td>0.93</td>\n",
       "      <td>1.69</td>\n",
       "    </tr>\n",
       "    <tr>\n",
       "      <th>LGBMClassifier</th>\n",
       "      <td>0.92</td>\n",
       "      <td>0.93</td>\n",
       "      <td>None</td>\n",
       "      <td>0.92</td>\n",
       "      <td>1.47</td>\n",
       "    </tr>\n",
       "    <tr>\n",
       "      <th>SVC</th>\n",
       "      <td>0.92</td>\n",
       "      <td>0.93</td>\n",
       "      <td>None</td>\n",
       "      <td>0.92</td>\n",
       "      <td>1.72</td>\n",
       "    </tr>\n",
       "    <tr>\n",
       "      <th>LogisticRegression</th>\n",
       "      <td>0.92</td>\n",
       "      <td>0.93</td>\n",
       "      <td>None</td>\n",
       "      <td>0.92</td>\n",
       "      <td>0.65</td>\n",
       "    </tr>\n",
       "    <tr>\n",
       "      <th>RandomForestClassifier</th>\n",
       "      <td>0.92</td>\n",
       "      <td>0.93</td>\n",
       "      <td>None</td>\n",
       "      <td>0.92</td>\n",
       "      <td>3.75</td>\n",
       "    </tr>\n",
       "    <tr>\n",
       "      <th>BaggingClassifier</th>\n",
       "      <td>0.92</td>\n",
       "      <td>0.93</td>\n",
       "      <td>None</td>\n",
       "      <td>0.92</td>\n",
       "      <td>1.54</td>\n",
       "    </tr>\n",
       "    <tr>\n",
       "      <th>KNeighborsClassifier</th>\n",
       "      <td>0.92</td>\n",
       "      <td>0.93</td>\n",
       "      <td>None</td>\n",
       "      <td>0.92</td>\n",
       "      <td>0.75</td>\n",
       "    </tr>\n",
       "    <tr>\n",
       "      <th>CalibratedClassifierCV</th>\n",
       "      <td>0.91</td>\n",
       "      <td>0.93</td>\n",
       "      <td>None</td>\n",
       "      <td>0.92</td>\n",
       "      <td>5.30</td>\n",
       "    </tr>\n",
       "    <tr>\n",
       "      <th>LinearSVC</th>\n",
       "      <td>0.91</td>\n",
       "      <td>0.93</td>\n",
       "      <td>None</td>\n",
       "      <td>0.91</td>\n",
       "      <td>1.14</td>\n",
       "    </tr>\n",
       "    <tr>\n",
       "      <th>ExtraTreesClassifier</th>\n",
       "      <td>0.92</td>\n",
       "      <td>0.93</td>\n",
       "      <td>None</td>\n",
       "      <td>0.92</td>\n",
       "      <td>1.06</td>\n",
       "    </tr>\n",
       "    <tr>\n",
       "      <th>QuadraticDiscriminantAnalysis</th>\n",
       "      <td>0.91</td>\n",
       "      <td>0.93</td>\n",
       "      <td>None</td>\n",
       "      <td>0.91</td>\n",
       "      <td>0.04</td>\n",
       "    </tr>\n",
       "    <tr>\n",
       "      <th>SGDClassifier</th>\n",
       "      <td>0.92</td>\n",
       "      <td>0.92</td>\n",
       "      <td>None</td>\n",
       "      <td>0.92</td>\n",
       "      <td>0.17</td>\n",
       "    </tr>\n",
       "    <tr>\n",
       "      <th>LabelSpreading</th>\n",
       "      <td>0.91</td>\n",
       "      <td>0.92</td>\n",
       "      <td>None</td>\n",
       "      <td>0.91</td>\n",
       "      <td>8.88</td>\n",
       "    </tr>\n",
       "    <tr>\n",
       "      <th>LabelPropagation</th>\n",
       "      <td>0.91</td>\n",
       "      <td>0.92</td>\n",
       "      <td>None</td>\n",
       "      <td>0.91</td>\n",
       "      <td>5.86</td>\n",
       "    </tr>\n",
       "    <tr>\n",
       "      <th>LinearDiscriminantAnalysis</th>\n",
       "      <td>0.90</td>\n",
       "      <td>0.92</td>\n",
       "      <td>None</td>\n",
       "      <td>0.91</td>\n",
       "      <td>0.06</td>\n",
       "    </tr>\n",
       "    <tr>\n",
       "      <th>Perceptron</th>\n",
       "      <td>0.90</td>\n",
       "      <td>0.91</td>\n",
       "      <td>None</td>\n",
       "      <td>0.90</td>\n",
       "      <td>0.11</td>\n",
       "    </tr>\n",
       "    <tr>\n",
       "      <th>GaussianNB</th>\n",
       "      <td>0.90</td>\n",
       "      <td>0.91</td>\n",
       "      <td>None</td>\n",
       "      <td>0.90</td>\n",
       "      <td>0.02</td>\n",
       "    </tr>\n",
       "    <tr>\n",
       "      <th>DecisionTreeClassifier</th>\n",
       "      <td>0.89</td>\n",
       "      <td>0.91</td>\n",
       "      <td>None</td>\n",
       "      <td>0.89</td>\n",
       "      <td>0.37</td>\n",
       "    </tr>\n",
       "    <tr>\n",
       "      <th>NearestCentroid</th>\n",
       "      <td>0.89</td>\n",
       "      <td>0.91</td>\n",
       "      <td>None</td>\n",
       "      <td>0.89</td>\n",
       "      <td>0.03</td>\n",
       "    </tr>\n",
       "    <tr>\n",
       "      <th>RidgeClassifier</th>\n",
       "      <td>0.90</td>\n",
       "      <td>0.91</td>\n",
       "      <td>None</td>\n",
       "      <td>0.90</td>\n",
       "      <td>0.03</td>\n",
       "    </tr>\n",
       "    <tr>\n",
       "      <th>PassiveAggressiveClassifier</th>\n",
       "      <td>0.88</td>\n",
       "      <td>0.90</td>\n",
       "      <td>None</td>\n",
       "      <td>0.88</td>\n",
       "      <td>0.12</td>\n",
       "    </tr>\n",
       "    <tr>\n",
       "      <th>RidgeClassifierCV</th>\n",
       "      <td>0.90</td>\n",
       "      <td>0.90</td>\n",
       "      <td>None</td>\n",
       "      <td>0.90</td>\n",
       "      <td>0.05</td>\n",
       "    </tr>\n",
       "    <tr>\n",
       "      <th>ExtraTreeClassifier</th>\n",
       "      <td>0.87</td>\n",
       "      <td>0.89</td>\n",
       "      <td>None</td>\n",
       "      <td>0.87</td>\n",
       "      <td>0.03</td>\n",
       "    </tr>\n",
       "    <tr>\n",
       "      <th>BernoulliNB</th>\n",
       "      <td>0.72</td>\n",
       "      <td>0.68</td>\n",
       "      <td>None</td>\n",
       "      <td>0.71</td>\n",
       "      <td>0.03</td>\n",
       "    </tr>\n",
       "    <tr>\n",
       "      <th>AdaBoostClassifier</th>\n",
       "      <td>0.63</td>\n",
       "      <td>0.50</td>\n",
       "      <td>None</td>\n",
       "      <td>0.58</td>\n",
       "      <td>1.60</td>\n",
       "    </tr>\n",
       "    <tr>\n",
       "      <th>DummyClassifier</th>\n",
       "      <td>0.26</td>\n",
       "      <td>0.14</td>\n",
       "      <td>None</td>\n",
       "      <td>0.11</td>\n",
       "      <td>0.02</td>\n",
       "    </tr>\n",
       "  </tbody>\n",
       "</table>\n",
       "</div>"
      ],
      "text/plain": [
       "                               Accuracy  Balanced Accuracy ROC AUC  F1 Score  \\\n",
       "Model                                                                          \n",
       "XGBClassifier                      0.93               0.94    None      0.93   \n",
       "LGBMClassifier                     0.92               0.93    None      0.92   \n",
       "SVC                                0.92               0.93    None      0.92   \n",
       "LogisticRegression                 0.92               0.93    None      0.92   \n",
       "RandomForestClassifier             0.92               0.93    None      0.92   \n",
       "BaggingClassifier                  0.92               0.93    None      0.92   \n",
       "KNeighborsClassifier               0.92               0.93    None      0.92   \n",
       "CalibratedClassifierCV             0.91               0.93    None      0.92   \n",
       "LinearSVC                          0.91               0.93    None      0.91   \n",
       "ExtraTreesClassifier               0.92               0.93    None      0.92   \n",
       "QuadraticDiscriminantAnalysis      0.91               0.93    None      0.91   \n",
       "SGDClassifier                      0.92               0.92    None      0.92   \n",
       "LabelSpreading                     0.91               0.92    None      0.91   \n",
       "LabelPropagation                   0.91               0.92    None      0.91   \n",
       "LinearDiscriminantAnalysis         0.90               0.92    None      0.91   \n",
       "Perceptron                         0.90               0.91    None      0.90   \n",
       "GaussianNB                         0.90               0.91    None      0.90   \n",
       "DecisionTreeClassifier             0.89               0.91    None      0.89   \n",
       "NearestCentroid                    0.89               0.91    None      0.89   \n",
       "RidgeClassifier                    0.90               0.91    None      0.90   \n",
       "PassiveAggressiveClassifier        0.88               0.90    None      0.88   \n",
       "RidgeClassifierCV                  0.90               0.90    None      0.90   \n",
       "ExtraTreeClassifier                0.87               0.89    None      0.87   \n",
       "BernoulliNB                        0.72               0.68    None      0.71   \n",
       "AdaBoostClassifier                 0.63               0.50    None      0.58   \n",
       "DummyClassifier                    0.26               0.14    None      0.11   \n",
       "\n",
       "                               Time Taken  \n",
       "Model                                      \n",
       "XGBClassifier                        1.69  \n",
       "LGBMClassifier                       1.47  \n",
       "SVC                                  1.72  \n",
       "LogisticRegression                   0.65  \n",
       "RandomForestClassifier               3.75  \n",
       "BaggingClassifier                    1.54  \n",
       "KNeighborsClassifier                 0.75  \n",
       "CalibratedClassifierCV               5.30  \n",
       "LinearSVC                            1.14  \n",
       "ExtraTreesClassifier                 1.06  \n",
       "QuadraticDiscriminantAnalysis        0.04  \n",
       "SGDClassifier                        0.17  \n",
       "LabelSpreading                       8.88  \n",
       "LabelPropagation                     5.86  \n",
       "LinearDiscriminantAnalysis           0.06  \n",
       "Perceptron                           0.11  \n",
       "GaussianNB                           0.02  \n",
       "DecisionTreeClassifier               0.37  \n",
       "NearestCentroid                      0.03  \n",
       "RidgeClassifier                      0.03  \n",
       "PassiveAggressiveClassifier          0.12  \n",
       "RidgeClassifierCV                    0.05  \n",
       "ExtraTreeClassifier                  0.03  \n",
       "BernoulliNB                          0.03  \n",
       "AdaBoostClassifier                   1.60  \n",
       "DummyClassifier                      0.02  "
      ]
     },
     "execution_count": 16,
     "metadata": {},
     "output_type": "execute_result"
    }
   ],
   "source": [
    "models"
   ]
  },
  {
   "cell_type": "code",
   "execution_count": 17,
   "metadata": {},
   "outputs": [
    {
     "name": "stdout",
     "output_type": "stream",
     "text": [
      "{'uci_id': 602, 'name': 'Dry Bean Dataset', 'repository_url': 'https://archive.ics.uci.edu/dataset/602/dry+bean+dataset', 'data_url': 'https://archive.ics.uci.edu/static/public/602/data.csv', 'abstract': 'Images of 13,611 grains of 7 different registered dry beans were taken with a high-resolution camera. A total of 16 features; 12 dimensions and 4 shape forms, were obtained from the grains.', 'area': 'Biology', 'tasks': ['Classification'], 'characteristics': ['Multivariate'], 'num_instances': 13611, 'num_features': 16, 'feature_types': ['Integer', 'Real'], 'demographics': [], 'target_col': ['Class'], 'index_col': None, 'has_missing_values': 'no', 'missing_values_symbol': None, 'year_of_dataset_creation': 2020, 'last_updated': 'Fri Nov 03 2023', 'dataset_doi': '10.24432/C50S4B', 'creators': [], 'intro_paper': {'title': 'Multiclass classification of dry beans using computer vision and machine learning techniques', 'authors': 'M. Koklu, Ilker Ali Özkan', 'published_in': 'Computers and Electronics in Agriculture', 'year': 2020, 'url': 'https://www.semanticscholar.org/paper/e84c31138f2f261d15517d6b6bb8922c3fe597a1', 'doi': '10.1016/j.compag.2020.105507'}, 'additional_info': {'summary': 'Seven different types of dry beans were used in this research, taking into account the features such as form, shape, type, and structure by the market situation. A computer vision system was developed to distinguish seven different registered varieties of dry beans with similar features in order to obtain uniform seed classification. For the classification model, images of 13,611 grains of 7 different registered dry beans were taken with a high-resolution camera. Bean images obtained by computer vision system were subjected to segmentation and feature extraction stages, and a total of 16 features; 12 dimensions and 4 shape forms, were obtained from the grains.', 'purpose': None, 'funded_by': None, 'instances_represent': None, 'recommended_data_splits': None, 'sensitive_data': None, 'preprocessing_description': None, 'variable_info': '1.) Area (A): The area of a bean zone and the number of pixels within its boundaries.\\r\\n2.) Perimeter (P): Bean circumference is defined as the length of its border.\\r\\n3.) Major axis length (L): The distance between the ends of the longest line that can be drawn from a bean.\\r\\n4.) Minor axis length (l): The longest line that can be drawn from the bean while standing perpendicular to the main axis.\\r\\n5.) Aspect ratio (K): Defines the relationship between L and l.\\r\\n6.) Eccentricity (Ec): Eccentricity of the ellipse having the same moments as the region.\\r\\n7.) Convex area (C): Number of pixels in the smallest convex polygon that can contain the area of a bean seed.\\r\\n8.) Equivalent diameter (Ed): The diameter of a circle having the same area as a bean seed area.\\r\\n9.) Extent (Ex): The ratio of the pixels in the bounding box to the bean area.\\r\\n10.)Solidity (S): Also known as convexity. The ratio of the pixels in the convex shell to those found in beans.\\r\\n11.)Roundness (R): Calculated with the following formula: (4piA)/(P^2)\\r\\n12.)Compactness (CO): Measures the roundness of an object: Ed/L\\r\\n13.)ShapeFactor1 (SF1)\\r\\n14.)ShapeFactor2 (SF2)\\r\\n15.)ShapeFactor3 (SF3)\\r\\n16.)ShapeFactor4 (SF4)\\r\\n17.)Class (Seker, Barbunya, Bombay, Cali, Dermosan, Horoz and Sira)\\r\\n', 'citation': None}}\n",
      "               name     role         type demographic  \\\n",
      "0              Area  Feature      Integer        None   \n",
      "1         Perimeter  Feature   Continuous        None   \n",
      "2   MajorAxisLength  Feature   Continuous        None   \n",
      "3   MinorAxisLength  Feature   Continuous        None   \n",
      "4       AspectRatio  Feature   Continuous        None   \n",
      "5      Eccentricity  Feature   Continuous        None   \n",
      "6        ConvexArea  Feature      Integer        None   \n",
      "7     EquivDiameter  Feature   Continuous        None   \n",
      "8            Extent  Feature   Continuous        None   \n",
      "9          Solidity  Feature   Continuous        None   \n",
      "10        Roundness  Feature   Continuous        None   \n",
      "11      Compactness  Feature   Continuous        None   \n",
      "12     ShapeFactor1  Feature   Continuous        None   \n",
      "13     ShapeFactor2  Feature   Continuous        None   \n",
      "14     ShapeFactor3  Feature   Continuous        None   \n",
      "15     ShapeFactor4  Feature   Continuous        None   \n",
      "16            Class   Target  Categorical        None   \n",
      "\n",
      "                                          description   units missing_values  \n",
      "0   The area of a bean zone and the number of pixe...  pixels             no  \n",
      "1   Bean circumference is defined as the length of...    None             no  \n",
      "2   The distance between the ends of the longest l...    None             no  \n",
      "3   The longest line that can be drawn from the be...    None             no  \n",
      "4   Defines the relationship between MajorAxisLeng...    None             no  \n",
      "5   Eccentricity of the ellipse having the same mo...    None             no  \n",
      "6   Number of pixels in the smallest convex polygo...    None             no  \n",
      "7   Equivalent diameter: The diameter of a circle ...    None             no  \n",
      "8   The ratio of the pixels in the bounding box to...    None             no  \n",
      "9   Also known as convexity. The ratio of the pixe...    None             no  \n",
      "10  Calculated with the following formula: (4piA)/...    None             no  \n",
      "11                Measures the roundness of an object    Ed/L             no  \n",
      "12                                               None    None             no  \n",
      "13                                               None    None             no  \n",
      "14                                               None    None             no  \n",
      "15                                               None    None             no  \n",
      "16  (Seker, Barbunya, Bombay, Cali, Dermosan, Horo...    None             no  \n",
      "Column Name: Area\n",
      "Column DataType: int64\n",
      "Column unique values: [28395 28734 29380 ... 42139 42147 42159]\n",
      "Column has null: False\n",
      "\n",
      "\n",
      "Column Name: Perimeter\n",
      "Column DataType: float64\n",
      "Column has null: False\n",
      "\n",
      "\n",
      "Column Name: MajorAxisLength\n",
      "Column DataType: float64\n",
      "Column has null: False\n",
      "\n",
      "\n",
      "Column Name: MinorAxisLength\n",
      "Column DataType: float64\n",
      "Column has null: False\n",
      "\n",
      "\n",
      "Column Name: AspectRatio\n",
      "Column DataType: float64\n",
      "Column has null: False\n",
      "\n",
      "\n",
      "Column Name: Eccentricity\n",
      "Column DataType: float64\n",
      "Column has null: False\n",
      "\n",
      "\n",
      "Column Name: ConvexArea\n",
      "Column DataType: int64\n",
      "Column unique values: [28715 29172 29690 ... 42494 42667 42600]\n",
      "Column has null: False\n",
      "\n",
      "\n",
      "Column Name: EquivDiameter\n",
      "Column DataType: float64\n",
      "Column has null: False\n",
      "\n",
      "\n",
      "Column Name: Extent\n",
      "Column DataType: float64\n",
      "Column has null: False\n",
      "\n",
      "\n",
      "Column Name: Solidity\n",
      "Column DataType: float64\n",
      "Column has null: False\n",
      "\n",
      "\n",
      "Column Name: Roundness\n",
      "Column DataType: float64\n",
      "Column has null: False\n",
      "\n",
      "\n",
      "Column Name: Compactness\n",
      "Column DataType: float64\n",
      "Column has null: False\n",
      "\n",
      "\n",
      "Column Name: ShapeFactor1\n",
      "Column DataType: float64\n",
      "Column has null: False\n",
      "\n",
      "\n",
      "Column Name: ShapeFactor2\n",
      "Column DataType: float64\n",
      "Column has null: False\n",
      "\n",
      "\n",
      "Column Name: ShapeFactor3\n",
      "Column DataType: float64\n",
      "Column has null: False\n",
      "\n",
      "\n",
      "Column Name: ShapeFactor4\n",
      "Column DataType: float64\n",
      "Column has null: False\n",
      "\n",
      "\n",
      "Column Name: Class\n",
      "Column DataType: object\n",
      "Column unique values: ['SEKER' 'BARBUNYA' 'BOMBAY' 'CALI' 'HOROZ' 'SIRA' 'DERMASON']\n",
      "Column has null: False\n",
      "\n",
      "\n",
      "Categorical columns: Index(['Class'], dtype='object')\n",
      "Numerical columns: Index(['Area', 'Perimeter', 'MajorAxisLength', 'MinorAxisLength',\n",
      "       'AspectRatio', 'Eccentricity', 'ConvexArea', 'EquivDiameter', 'Extent',\n",
      "       'Solidity', 'Roundness', 'Compactness', 'ShapeFactor1', 'ShapeFactor2',\n",
      "       'ShapeFactor3', 'ShapeFactor4'],\n",
      "      dtype='object')\n"
     ]
    },
    {
     "data": {
      "image/png": "[encoded data removed]",
      "text/plain": [
       "<Figure size 720x720 with 20 Axes>"
      ]
     },
     "metadata": {
      "needs_background": "light"
     },
     "output_type": "display_data"
    },
    {
     "data": {
      "image/png": "[encoded data removed]",
      "text/plain": [
       "<Figure size 432x288 with 1 Axes>"
      ]
     },
     "metadata": {
      "needs_background": "light"
     },
     "output_type": "display_data"
    },
    {
     "data": {
      "image/png": "[encoded data removed]",
      "text/plain": [
       "<Figure size 432x288 with 1 Axes>"
      ]
     },
     "metadata": {
      "needs_background": "light"
     },
     "output_type": "display_data"
    },
    {
     "data": {
      "image/png": "[encoded data removed]",
      "text/plain": [
       "<Figure size 432x288 with 1 Axes>"
      ]
     },
     "metadata": {
      "needs_background": "light"
     },
     "output_type": "display_data"
    },
    {
     "data": {
      "image/png": "[encoded data removed]",
      "text/plain": [
       "<Figure size 432x288 with 1 Axes>"
      ]
     },
     "metadata": {
      "needs_background": "light"
     },
     "output_type": "display_data"
    },
    {
     "data": {
      "image/png": "[encoded data removed]",
      "text/plain": [
       "<Figure size 432x288 with 1 Axes>"
      ]
     },
     "metadata": {
      "needs_background": "light"
     },
     "output_type": "display_data"
    },
    {
     "data": {
      "image/png": "[encoded data removed]",
      "text/plain": [
       "<Figure size 432x288 with 1 Axes>"
      ]
     },
     "metadata": {
      "needs_background": "light"
     },
     "output_type": "display_data"
    },
    {
     "data": {
      "image/png": "[encoded data removed]",
      "text/plain": [
       "<Figure size 432x288 with 1 Axes>"
      ]
     },
     "metadata": {
      "needs_background": "light"
     },
     "output_type": "display_data"
    },
    {
     "data": {
      "image/png": "[encoded data removed]",
      "text/plain": [
       "<Figure size 432x288 with 1 Axes>"
      ]
     },
     "metadata": {
      "needs_background": "light"
     },
     "output_type": "display_data"
    },
    {
     "data": {
      "image/png": "[encoded data removed]",
      "text/plain": [
       "<Figure size 432x288 with 1 Axes>"
      ]
     },
     "metadata": {
      "needs_background": "light"
     },
     "output_type": "display_data"
    },
    {
     "data": {
      "image/png": "[encoded data removed]",
      "text/plain": [
       "<Figure size 432x288 with 1 Axes>"
      ]
     },
     "metadata": {
      "needs_background": "light"
     },
     "output_type": "display_data"
    },
    {
     "data": {
      "image/png": "[encoded data removed]",
      "text/plain": [
       "<Figure size 432x288 with 1 Axes>"
      ]
     },
     "metadata": {
      "needs_background": "light"
     },
     "output_type": "display_data"
    },
    {
     "data": {
      "image/png": "[encoded data removed]",
      "text/plain": [
       "<Figure size 432x288 with 1 Axes>"
      ]
     },
     "metadata": {
      "needs_background": "light"
     },
     "output_type": "display_data"
    },
    {
     "data": {
      "image/png": "[encoded data removed]",
      "text/plain": [
       "<Figure size 432x288 with 1 Axes>"
      ]
     },
     "metadata": {
      "needs_background": "light"
     },
     "output_type": "display_data"
    },
    {
     "data": {
      "image/png": "[encoded data removed]",
      "text/plain": [
       "<Figure size 432x288 with 1 Axes>"
      ]
     },
     "metadata": {
      "needs_background": "light"
     },
     "output_type": "display_data"
    },
    {
     "data": {
      "image/png": "[encoded data removed]",
      "text/plain": [
       "<Figure size 432x288 with 1 Axes>"
      ]
     },
     "metadata": {
      "needs_background": "light"
     },
     "output_type": "display_data"
    },
    {
     "data": {
      "image/png": "[encoded data removed]",
      "text/plain": [
       "<Figure size 432x288 with 1 Axes>"
      ]
     },
     "metadata": {
      "needs_background": "light"
     },
     "output_type": "display_data"
    },
    {
     "name": "stdout",
     "output_type": "stream",
     "text": [
      "                 Mean  Mode  Median    Q1    Q2   Q3  Minimum  Maximum\n",
      "Area            -0.00 -0.85   -0.29 -0.57 -0.29 0.28    -1.11     6.87\n",
      "Perimeter       -0.00 -0.80   -0.28 -0.71 -0.28 0.57    -1.54     5.27\n",
      "MajorAxisLength -0.00 -0.50   -0.27 -0.78 -0.27 0.66    -1.59     4.89\n",
      "MinorAxisLength -0.00 -1.07   -0.22 -0.59 -0.22 0.33    -1.77     5.74\n",
      "AspectRatio     -0.00  0.46   -0.13 -0.61 -0.13 0.50    -2.26     3.43\n",
      "Eccentricity     0.00  0.62    0.15 -0.38  0.15 0.65    -5.78     1.74\n",
      "ConvexArea      -0.00 -0.56   -0.29 -0.57 -0.29 0.29    -1.11     7.04\n",
      "EquivDiameter    0.00 -1.08   -0.25 -0.64 -0.25 0.45    -1.55     5.35\n",
      "Extent          -0.00 -3.23    0.21 -0.63  0.21 0.76    -3.96     2.37\n",
      "Solidity         0.00 -6.55    0.24 -0.32  0.24 0.62   -14.57     1.62\n",
      "Roundness        0.00 -2.32    0.17 -0.69  0.17 0.73    -6.45     1.97\n",
      "Compactness     -0.00 -2.14    0.02 -0.61  0.02 0.56    -2.58     3.04\n",
      "ShapeFactor1     0.00 -1.33    0.07 -0.59  0.07 0.63    -3.36     3.45\n",
      "ShapeFactor2    -0.00 -1.04   -0.04 -0.94 -0.04 0.76    -1.93     3.27\n",
      "ShapeFactor3     0.00 -1.99   -0.02 -0.63 -0.02 0.53    -2.36     3.35\n",
      "ShapeFactor4     0.00 -5.96    0.30 -0.31  0.30 0.65   -10.85     1.07\n",
      "Class            3.53  3.00    3.00  2.00  3.00 5.00     0.00     6.00\n",
      "              precision    recall  f1-score   support\n",
      "\n",
      "           0       0.95      0.88      0.91       265\n",
      "           1       1.00      1.00      1.00       104\n",
      "           2       0.92      0.94      0.93       326\n",
      "           3       0.91      0.91      0.91       709\n",
      "           4       0.95      0.95      0.95       386\n",
      "           5       0.95      0.94      0.95       406\n",
      "           6       0.85      0.87      0.86       527\n",
      "\n",
      "    accuracy                           0.92      2723\n",
      "   macro avg       0.93      0.93      0.93      2723\n",
      "weighted avg       0.92      0.92      0.92      2723\n",
      "\n",
      "Accuracy: 0.9170033051781123\n",
      "Cross-Validation with KNN Classifier\n",
      "Cross-Validation Scores: [0.7194271  0.72961058 0.71271124 0.72189566 0.73291697]\n",
      "Mean Accuracy: 0.7233123124832873\n",
      "Standard Deviation of Accuracy: 0.007230520419721301\n"
     ]
    }
   ],
   "source": [
    "master_workflow()"
   ]
  },
  {
   "cell_type": "code",
   "execution_count": 18,
   "metadata": {},
   "outputs": [
    {
     "data": {
      "text/plain": [
       "'\\nInterpretation of ML Results:\\n- KNN with cross-validation was applied to the dataset.\\n- The mean accuracy of the model was [mention mean accuracy], with a standard deviation of [mention std accuracy].\\n- The model performance suggests that [mention insights on model performance].\\n- Further optimization of hyperparameters and model selection techniques could potentially improve performance.\\n'"
      ]
     },
     "execution_count": 18,
     "metadata": {},
     "output_type": "execute_result"
    }
   ],
   "source": [
    "# EDA Interpretation\n",
    "\"\"\"\n",
    "Interpretation of EDA:\n",
    "- Analysis of feature distributions and relationships showed that [mention important findings].\n",
    "- There were no significant outliers detected in the dataset.\n",
    "- Correlation analysis revealed that [mention correlation findings].\n",
    "- The dataset appears to be well-preprocessed and suitable for modeling.\n",
    "\"\"\"\n",
    "\n",
    "# ML Results Interpretation\n",
    "\"\"\"\n",
    "Interpretation of ML Results:\n",
    "- KNN with cross-validation was applied to the dataset.\n",
    "- The mean accuracy of the model was [mention mean accuracy], with a standard deviation of [mention std accuracy].\n",
    "- The model performance suggests that [mention insights on model performance].\n",
    "- Further optimization of hyperparameters and model selection techniques could potentially improve performance.\n",
    "\"\"\""
   ]
  }
 ],
 "metadata": {
  "kernelspec": {
   "display_name": "Python 3 (ipykernel)",
   "language": "python",
   "name": "python3"
  },
  "language_info": {
   "codemirror_mode": {
    "name": "ipython",
    "version": 3
   },
   "file_extension": ".py",
   "mimetype": "text/x-python",
   "name": "python",
   "nbconvert_exporter": "python",
   "pygments_lexer": "ipython3",
   "version": "3.9.12"
  }
 },
 "nbformat": 4,
 "nbformat_minor": 2
}
