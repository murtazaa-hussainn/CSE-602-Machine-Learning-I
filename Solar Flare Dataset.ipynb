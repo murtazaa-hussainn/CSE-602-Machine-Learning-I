{
 "cells": [
  {
   "cell_type": "code",
   "execution_count": 2,
   "id": "90ba8ae3",
   "metadata": {},
   "outputs": [],
   "source": [
    "#Import libraries\n",
    "import pandas as pd\n",
    "import numpy as np\n",
    "import pickle\n",
    "from ucimlrepo import fetch_ucirepo \n",
    "from sklearn.pipeline import make_pipeline\n",
    "from sklearn.compose import make_column_transformer\n",
    "from sklearn.model_selection import train_test_split, cross_val_score\n",
    "from sklearn.preprocessing import StandardScaler, OneHotEncoder, LabelEncoder\n",
    "from sklearn.neighbors import KNeighborsClassifier\n",
    "from sklearn.metrics import classification_report, accuracy_score, r2_score\n",
    "import matplotlib.pyplot as plt\n",
    "import seaborn as sns\n",
    "import urllib.request\n",
    "from scipy.io import arff\n",
    "import zipfile\n",
    "import os"
   ]
  },
  {
   "cell_type": "code",
   "execution_count": 7,
   "id": "c72412f4",
   "metadata": {},
   "outputs": [
    {
     "name": "stdout",
     "output_type": "stream",
     "text": [
      "{'uci_id': 89, 'name': 'Solar Flare', 'repository_url': 'https://archive.ics.uci.edu/dataset/89/solar+flare', 'data_url': 'https://archive.ics.uci.edu/static/public/89/data.csv', 'abstract': 'Each class attribute counts the number of solar flares of a certain class that occur in a 24 hour period', 'area': 'Physics and Chemistry', 'tasks': ['Regression'], 'characteristics': ['Multivariate'], 'num_instances': 1389, 'num_features': 10, 'feature_types': ['Categorical'], 'demographics': [], 'target_col': ['common flares', 'moderate flares', 'severe flares'], 'index_col': None, 'has_missing_values': 'no', 'missing_values_symbol': None, 'year_of_dataset_creation': 1989, 'last_updated': 'Wed Feb 14 2024', 'dataset_doi': '10.24432/C5530G', 'creators': [], 'intro_paper': None, 'additional_info': {'summary': 'Notes:\\r\\n\\r\\n   -- The database contains 3 potential classes, one for the number of times a certain type of solar flare occured in a 24 hour period.\\r\\n   -- Each instance represents captured features for 1 active region on the sun.\\r\\n   -- The data are divided into two sections. The second section (flare.data2) has had much more error correction applied to the it, and has consequently been treated as more reliable.', 'purpose': None, 'funded_by': None, 'instances_represent': None, 'recommended_data_splits': None, 'sensitive_data': None, 'preprocessing_description': None, 'variable_info': \"   1. Code for class (modified Zurich class)  (A,B,C,D,E,F,H)\\r\\n   2. Code for largest spot size              (X,R,S,A,H,K)\\r\\n   3. Code for spot distribution              (X,O,I,C)\\r\\n   4. Activity                                (1 = reduced, 2 = unchanged)\\r\\n   5. Evolution                               (1 = decay, 2 = no growth, 3 = growth)\\r\\n   6. Previous 24 hour flare activity code    (1 = nothing as big as an M1, 2 = one M1, 3 = more activity than one M1)\\r\\n   7. Historically-complex                    (1 = Yes, 2 = No)\\r\\n   8. Did region become historically complex  on this pass across the sun's disk (1 = yes, 2 = no) \\r\\n   9. Area                                    (1 = small, 2 = large)\\r\\n  10. Area of the largest spot                (1 = <=5, 2 = >5)\\r\\n\\r\\n From all these predictors three classes of flares are predicted, which are represented in the last three columns.\\r\\n\\r\\n  11. C-class flares production by this region in the following 24 hours (common flares); Number\\r\\n  12. M-class flares production by this region in the following 24 hours (moderate flares);   Number\\r\\n  13. X-class flares production by this region in the following 24 hours (severe flares); Number\\r\\n     \", 'citation': None}}\n",
      "                               name     role         type demographic  \\\n",
      "0             modified Zurich class  Feature  Categorical        None   \n",
      "1                 largest spot size  Feature  Categorical        None   \n",
      "2                 spot distribution  Feature  Categorical        None   \n",
      "3                          activity  Feature      Integer        None   \n",
      "4                         evolution  Feature      Integer        None   \n",
      "5   previous 24 hour flare activity  Feature      Integer        None   \n",
      "6              historically-complex  Feature      Integer        None   \n",
      "7       became complex on this pass  Feature      Integer        None   \n",
      "8                              area  Feature      Integer        None   \n",
      "9              area of largest spot  Feature      Integer        None   \n",
      "10                    common flares   Target      Integer        None   \n",
      "11                  moderate flares   Target      Integer        None   \n",
      "12                    severe flares   Target      Integer        None   \n",
      "\n",
      "                                          description units missing_values  \n",
      "0                                       A,B,C,D,E,F,H  None             no  \n",
      "1                                         X,R,S,A,H,K  None             no  \n",
      "2                                             X,O,I,C  None             no  \n",
      "3                          1 = reduced, 2 = unchanged  None             no  \n",
      "4                1 = decay, 2 = no growth, 3 = growth  None             no  \n",
      "5   1 = nothing as big as an M1, 2 = one M1, 3 = m...  None             no  \n",
      "6                                     1 = Yes, 2 = No  None             no  \n",
      "7   . Did region become historically complex  on t...  None             no  \n",
      "8                                1 = small, 2 = large  None             no  \n",
      "9                                     1 = <=5, 2 = >5  None             no  \n",
      "10  C-class flares production by this region in th...  None             no  \n",
      "11  M-class flares production by this region in th...  None             no  \n",
      "12  X-class flares production by this region in th...  None             no  \n"
     ]
    }
   ],
   "source": [
    "# Data Loader loads data from UCI-ML Repo\n",
    "def load_dataset():\n",
    "    # fetch dataset \n",
    "    solar_flare = fetch_ucirepo(id=89) \n",
    "\n",
    "    # data (as pandas dataframes) \n",
    "    x = solar_flare.data.features \n",
    "    y = solar_flare.data.targets \n",
    "    z = solar_flare.data.original\n",
    "\n",
    "    # metadata \n",
    "    print(solar_flare.metadata) \n",
    "\n",
    "    # variable information \n",
    "    print(solar_flare.variables) \n",
    "    \n",
    "    return x, y, z\n",
    "\n",
    "# UCI-ML Repo Provides us with 3 Pandas DF inherently:\n",
    "# 1. features (contains only the features)\n",
    "# 2. targets (the targets to be preddicted)\n",
    "# 3. original (contains both features and targets)\n",
    "features, targets, original = load_dataset()"
   ]
  },
  {
   "cell_type": "code",
   "execution_count": 18,
   "id": "62690544",
   "metadata": {},
   "outputs": [],
   "source": [
    "def missing_value_analysis(dataset):\n",
    "    missing_values = dataset.isnull().sum() # Count missing values for each column\n",
    "    total_cells = dataset.shape[0] * dataset.shape[1] # Total number of cells in the dataset\n",
    "    missing_percentage = (missing_values.sum() / total_cells) * 100 # Calculate the percentage of missing values\n",
    "    \n",
    "    print(\"Missing Values Analysis:\")\n",
    "    print(\"------------------------\")\n",
    "    print(\"Total Missing Values:\")\n",
    "    print(missing_values)\n",
    "    print(\"\\nTotal Missing Percentage: {:.2f}%\".format(missing_percentage))"
   ]
  },
  {
   "cell_type": "code",
   "execution_count": 1,
   "id": "ee932e3a",
   "metadata": {},
   "outputs": [
    {
     "ename": "NameError",
     "evalue": "name 'missing_value_analysis' is not defined",
     "output_type": "error",
     "traceback": [
      "\u001b[1;31m---------------------------------------------------------------------------\u001b[0m",
      "\u001b[1;31mNameError\u001b[0m                                 Traceback (most recent call last)",
      "Input \u001b[1;32mIn [1]\u001b[0m, in \u001b[0;36m<cell line: 5>\u001b[1;34m()\u001b[0m\n\u001b[0;32m      1\u001b[0m \u001b[38;5;66;03m# Assuming you've already fetched the dataset and stored it in 'solar_flare'\u001b[39;00m\n\u001b[0;32m      2\u001b[0m \u001b[38;5;66;03m# X and y should already be extracted as features and targets respectively\u001b[39;00m\n\u001b[0;32m      3\u001b[0m \n\u001b[0;32m      4\u001b[0m \u001b[38;5;66;03m# Perform missing value analysis on the features dataset\u001b[39;00m\n\u001b[1;32m----> 5\u001b[0m \u001b[43mmissing_value_analysis\u001b[49m(X)\n\u001b[0;32m      7\u001b[0m \u001b[38;5;66;03m# Perform missing value analysis on the targets dataset (if applicable)\u001b[39;00m\n\u001b[0;32m      8\u001b[0m missing_value_analysis(y)\n",
      "\u001b[1;31mNameError\u001b[0m: name 'missing_value_analysis' is not defined"
     ]
    }
   ],
   "source": [
    "# Perform missing value analysis on the features dataset\n",
    "missing_value_analysis(X)\n",
    "\n",
    "# Perform missing value analysis on the targets dataset (if applicable)\n",
    "missing_value_analysis(y)"
   ]
  },
  {
   "cell_type": "code",
   "execution_count": 11,
   "id": "fba2e3b9",
   "metadata": {},
   "outputs": [
    {
     "name": "stdout",
     "output_type": "stream",
     "text": [
      "Categorical columns: Index(['modified Zurich class', 'largest spot size', 'spot distribution'], dtype='object')\n",
      "Numerical columns: Index(['activity', 'evolution', 'previous 24 hour flare activity',\n",
      "       'historically-complex', 'became complex on this pass', 'area',\n",
      "       'area of largest spot', 'common flares', 'moderate flares',\n",
      "       'severe flares'],\n",
      "      dtype='object')\n"
     ]
    },
    {
     "data": {
      "text/html": [
       "<div>\n",
       "<style scoped>\n",
       "    .dataframe tbody tr th:only-of-type {\n",
       "        vertical-align: middle;\n",
       "    }\n",
       "\n",
       "    .dataframe tbody tr th {\n",
       "        vertical-align: top;\n",
       "    }\n",
       "\n",
       "    .dataframe thead th {\n",
       "        text-align: right;\n",
       "    }\n",
       "</style>\n",
       "<table border=\"1\" class=\"dataframe\">\n",
       "  <thead>\n",
       "    <tr style=\"text-align: right;\">\n",
       "      <th></th>\n",
       "      <th>modified Zurich class</th>\n",
       "      <th>largest spot size</th>\n",
       "      <th>spot distribution</th>\n",
       "      <th>activity</th>\n",
       "      <th>evolution</th>\n",
       "      <th>previous 24 hour flare activity</th>\n",
       "      <th>historically-complex</th>\n",
       "      <th>became complex on this pass</th>\n",
       "      <th>area</th>\n",
       "      <th>area of largest spot</th>\n",
       "      <th>common flares</th>\n",
       "      <th>moderate flares</th>\n",
       "      <th>severe flares</th>\n",
       "    </tr>\n",
       "  </thead>\n",
       "  <tbody>\n",
       "    <tr>\n",
       "      <th>0</th>\n",
       "      <td>1</td>\n",
       "      <td>4</td>\n",
       "      <td>2</td>\n",
       "      <td>-0.420855</td>\n",
       "      <td>-0.682706</td>\n",
       "      <td>-0.223226</td>\n",
       "      <td>-0.809656</td>\n",
       "      <td>0.347945</td>\n",
       "      <td>-0.163118</td>\n",
       "      <td>2.166246</td>\n",
       "      <td>-0.3439</td>\n",
       "      <td>-0.191405</td>\n",
       "      <td>-0.090431</td>\n",
       "    </tr>\n",
       "    <tr>\n",
       "      <th>1</th>\n",
       "      <td>2</td>\n",
       "      <td>4</td>\n",
       "      <td>2</td>\n",
       "      <td>-0.420855</td>\n",
       "      <td>0.938283</td>\n",
       "      <td>-0.223226</td>\n",
       "      <td>-0.809656</td>\n",
       "      <td>0.347945</td>\n",
       "      <td>-0.163118</td>\n",
       "      <td>2.166246</td>\n",
       "      <td>-0.3439</td>\n",
       "      <td>-0.191405</td>\n",
       "      <td>-0.090431</td>\n",
       "    </tr>\n",
       "    <tr>\n",
       "      <th>2</th>\n",
       "      <td>1</td>\n",
       "      <td>4</td>\n",
       "      <td>2</td>\n",
       "      <td>-0.420855</td>\n",
       "      <td>0.938283</td>\n",
       "      <td>-0.223226</td>\n",
       "      <td>-0.809656</td>\n",
       "      <td>0.347945</td>\n",
       "      <td>-0.163118</td>\n",
       "      <td>-0.461628</td>\n",
       "      <td>-0.3439</td>\n",
       "      <td>-0.191405</td>\n",
       "      <td>-0.090431</td>\n",
       "    </tr>\n",
       "    <tr>\n",
       "      <th>3</th>\n",
       "      <td>2</td>\n",
       "      <td>4</td>\n",
       "      <td>2</td>\n",
       "      <td>-0.420855</td>\n",
       "      <td>0.938283</td>\n",
       "      <td>-0.223226</td>\n",
       "      <td>-0.809656</td>\n",
       "      <td>0.347945</td>\n",
       "      <td>-0.163118</td>\n",
       "      <td>2.166246</td>\n",
       "      <td>-0.3439</td>\n",
       "      <td>-0.191405</td>\n",
       "      <td>-0.090431</td>\n",
       "    </tr>\n",
       "    <tr>\n",
       "      <th>4</th>\n",
       "      <td>2</td>\n",
       "      <td>0</td>\n",
       "      <td>2</td>\n",
       "      <td>-0.420855</td>\n",
       "      <td>0.938283</td>\n",
       "      <td>-0.223226</td>\n",
       "      <td>-0.809656</td>\n",
       "      <td>0.347945</td>\n",
       "      <td>-0.163118</td>\n",
       "      <td>2.166246</td>\n",
       "      <td>-0.3439</td>\n",
       "      <td>-0.191405</td>\n",
       "      <td>-0.090431</td>\n",
       "    </tr>\n",
       "    <tr>\n",
       "      <th>...</th>\n",
       "      <td>...</td>\n",
       "      <td>...</td>\n",
       "      <td>...</td>\n",
       "      <td>...</td>\n",
       "      <td>...</td>\n",
       "      <td>...</td>\n",
       "      <td>...</td>\n",
       "      <td>...</td>\n",
       "      <td>...</td>\n",
       "      <td>...</td>\n",
       "      <td>...</td>\n",
       "      <td>...</td>\n",
       "      <td>...</td>\n",
       "    </tr>\n",
       "    <tr>\n",
       "      <th>1384</th>\n",
       "      <td>5</td>\n",
       "      <td>4</td>\n",
       "      <td>3</td>\n",
       "      <td>-0.420855</td>\n",
       "      <td>-0.682706</td>\n",
       "      <td>-0.223226</td>\n",
       "      <td>-0.809656</td>\n",
       "      <td>-2.874022</td>\n",
       "      <td>-0.163118</td>\n",
       "      <td>-0.461628</td>\n",
       "      <td>-0.3439</td>\n",
       "      <td>-0.191405</td>\n",
       "      <td>-0.090431</td>\n",
       "    </tr>\n",
       "    <tr>\n",
       "      <th>1385</th>\n",
       "      <td>5</td>\n",
       "      <td>4</td>\n",
       "      <td>3</td>\n",
       "      <td>2.376117</td>\n",
       "      <td>-0.682706</td>\n",
       "      <td>-0.223226</td>\n",
       "      <td>-0.809656</td>\n",
       "      <td>0.347945</td>\n",
       "      <td>-0.163118</td>\n",
       "      <td>-0.461628</td>\n",
       "      <td>-0.3439</td>\n",
       "      <td>-0.191405</td>\n",
       "      <td>-0.090431</td>\n",
       "    </tr>\n",
       "    <tr>\n",
       "      <th>1386</th>\n",
       "      <td>1</td>\n",
       "      <td>4</td>\n",
       "      <td>2</td>\n",
       "      <td>-0.420855</td>\n",
       "      <td>-0.682706</td>\n",
       "      <td>-0.223226</td>\n",
       "      <td>1.235093</td>\n",
       "      <td>0.347945</td>\n",
       "      <td>-0.163118</td>\n",
       "      <td>-0.461628</td>\n",
       "      <td>-0.3439</td>\n",
       "      <td>-0.191405</td>\n",
       "      <td>-0.090431</td>\n",
       "    </tr>\n",
       "    <tr>\n",
       "      <th>1387</th>\n",
       "      <td>5</td>\n",
       "      <td>3</td>\n",
       "      <td>3</td>\n",
       "      <td>-0.420855</td>\n",
       "      <td>-0.682706</td>\n",
       "      <td>-0.223226</td>\n",
       "      <td>-0.809656</td>\n",
       "      <td>0.347945</td>\n",
       "      <td>-0.163118</td>\n",
       "      <td>-0.461628</td>\n",
       "      <td>-0.3439</td>\n",
       "      <td>-0.191405</td>\n",
       "      <td>-0.090431</td>\n",
       "    </tr>\n",
       "    <tr>\n",
       "      <th>1388</th>\n",
       "      <td>0</td>\n",
       "      <td>5</td>\n",
       "      <td>2</td>\n",
       "      <td>-0.420855</td>\n",
       "      <td>-2.303696</td>\n",
       "      <td>-0.223226</td>\n",
       "      <td>-0.809656</td>\n",
       "      <td>0.347945</td>\n",
       "      <td>-0.163118</td>\n",
       "      <td>-0.461628</td>\n",
       "      <td>-0.3439</td>\n",
       "      <td>-0.191405</td>\n",
       "      <td>-0.090431</td>\n",
       "    </tr>\n",
       "  </tbody>\n",
       "</table>\n",
       "<p>1389 rows × 13 columns</p>\n",
       "</div>"
      ],
      "text/plain": [
       "      modified Zurich class  largest spot size  spot distribution  activity  \\\n",
       "0                         1                  4                  2 -0.420855   \n",
       "1                         2                  4                  2 -0.420855   \n",
       "2                         1                  4                  2 -0.420855   \n",
       "3                         2                  4                  2 -0.420855   \n",
       "4                         2                  0                  2 -0.420855   \n",
       "...                     ...                ...                ...       ...   \n",
       "1384                      5                  4                  3 -0.420855   \n",
       "1385                      5                  4                  3  2.376117   \n",
       "1386                      1                  4                  2 -0.420855   \n",
       "1387                      5                  3                  3 -0.420855   \n",
       "1388                      0                  5                  2 -0.420855   \n",
       "\n",
       "      evolution  previous 24 hour flare activity  historically-complex  \\\n",
       "0     -0.682706                        -0.223226             -0.809656   \n",
       "1      0.938283                        -0.223226             -0.809656   \n",
       "2      0.938283                        -0.223226             -0.809656   \n",
       "3      0.938283                        -0.223226             -0.809656   \n",
       "4      0.938283                        -0.223226             -0.809656   \n",
       "...         ...                              ...                   ...   \n",
       "1384  -0.682706                        -0.223226             -0.809656   \n",
       "1385  -0.682706                        -0.223226             -0.809656   \n",
       "1386  -0.682706                        -0.223226              1.235093   \n",
       "1387  -0.682706                        -0.223226             -0.809656   \n",
       "1388  -2.303696                        -0.223226             -0.809656   \n",
       "\n",
       "      became complex on this pass      area  area of largest spot  \\\n",
       "0                        0.347945 -0.163118              2.166246   \n",
       "1                        0.347945 -0.163118              2.166246   \n",
       "2                        0.347945 -0.163118             -0.461628   \n",
       "3                        0.347945 -0.163118              2.166246   \n",
       "4                        0.347945 -0.163118              2.166246   \n",
       "...                           ...       ...                   ...   \n",
       "1384                    -2.874022 -0.163118             -0.461628   \n",
       "1385                     0.347945 -0.163118             -0.461628   \n",
       "1386                     0.347945 -0.163118             -0.461628   \n",
       "1387                     0.347945 -0.163118             -0.461628   \n",
       "1388                     0.347945 -0.163118             -0.461628   \n",
       "\n",
       "      common flares  moderate flares  severe flares  \n",
       "0           -0.3439        -0.191405      -0.090431  \n",
       "1           -0.3439        -0.191405      -0.090431  \n",
       "2           -0.3439        -0.191405      -0.090431  \n",
       "3           -0.3439        -0.191405      -0.090431  \n",
       "4           -0.3439        -0.191405      -0.090431  \n",
       "...             ...              ...            ...  \n",
       "1384        -0.3439        -0.191405      -0.090431  \n",
       "1385        -0.3439        -0.191405      -0.090431  \n",
       "1386        -0.3439        -0.191405      -0.090431  \n",
       "1387        -0.3439        -0.191405      -0.090431  \n",
       "1388        -0.3439        -0.191405      -0.090431  \n",
       "\n",
       "[1389 rows x 13 columns]"
      ]
     },
     "execution_count": 11,
     "metadata": {},
     "output_type": "execute_result"
    }
   ],
   "source": [
    "# Transforms categorical and numberical data into numerical data\n",
    "def transform_data(df):\n",
    "    # Encode categorical variables\n",
    "    label_encoder = LabelEncoder()\n",
    "    print(\"Categorical columns:\", df.select_dtypes(include=['object']).columns)\n",
    "    for col in df.select_dtypes(include=['object']).columns:\n",
    "        df[col] = label_encoder.fit_transform(df[col])\n",
    "    \n",
    "    # Standardize numerical features\n",
    "    scaler = StandardScaler()\n",
    "    print(\"Numerical columns:\", df.select_dtypes(include=['float64', 'int64']).columns)\n",
    "    numerical_cols = df.select_dtypes(include=['float64', 'int64']).columns\n",
    "    if len(numerical_cols) > 0:\n",
    "        df[numerical_cols] = scaler.fit_transform(df[numerical_cols])\n",
    "    return df\n",
    "\n",
    "transform_data(original)"
   ]
  },
  {
   "cell_type": "code",
   "execution_count": 12,
   "id": "a7010c3e",
   "metadata": {},
   "outputs": [
    {
     "data": {
      "image/png": "[encoded data removed]",
      "text/plain": [
       "<Figure size 720x720 with 16 Axes>"
      ]
     },
     "metadata": {
      "needs_background": "light"
     },
     "output_type": "display_data"
    }
   ],
   "source": [
    "# Creates histograms for categorical data\n",
    "def plot_histograms(df):\n",
    "    df.hist(figsize=(10, 10))\n",
    "    plt.show()\n",
    "\n",
    "# Creates boxplot for numerical data\n",
    "def plot_boxplots(df):\n",
    "    for col in df.select_dtypes(include=['float64', 'int64']).columns:\n",
    "        sns.boxplot(x=df[col])\n",
    "        plt.show()\n",
    "\n",
    "plot_histograms(original)"
   ]
  },
  {
   "cell_type": "code",
   "execution_count": 13,
   "id": "aa9447d3",
   "metadata": {},
   "outputs": [],
   "source": [
    "# Performs data splitting on a 80:20 ratio\n",
    "def split_data(df, target_name):\n",
    "    X = df.drop(target_name, axis=1)\n",
    "    y = df[target_name]\n",
    "    return train_test_split(X, y, test_size=0.2, random_state=42)\n",
    "\n",
    "# Performs training and evaluation\n",
    "def train_and_evaluate(X_train, X_test, y_train, y_test):\n",
    "    model = KNeighborsClassifier()\n",
    "    model.fit(X_train, y_train)\n",
    "    predictions = model.predict(X_test)\n",
    "    print(classification_report(y_test, predictions))\n",
    "    print(\"Accuracy:\", accuracy_score(y_test, predictions))"
   ]
  },
  {
   "cell_type": "code",
   "execution_count": 14,
   "id": "1d42c5f0",
   "metadata": {},
   "outputs": [],
   "source": []
  },
  {
   "cell_type": "code",
   "execution_count": 15,
   "id": "4dbfa441",
   "metadata": {},
   "outputs": [
    {
     "name": "stdout",
     "output_type": "stream",
     "text": [
      "{'uci_id': 89, 'name': 'Solar Flare', 'repository_url': 'https://archive.ics.uci.edu/dataset/89/solar+flare', 'data_url': 'https://archive.ics.uci.edu/static/public/89/data.csv', 'abstract': 'Each class attribute counts the number of solar flares of a certain class that occur in a 24 hour period', 'area': 'Physics and Chemistry', 'tasks': ['Regression'], 'characteristics': ['Multivariate'], 'num_instances': 1389, 'num_features': 10, 'feature_types': ['Categorical'], 'demographics': [], 'target_col': ['common flares', 'moderate flares', 'severe flares'], 'index_col': None, 'has_missing_values': 'no', 'missing_values_symbol': None, 'year_of_dataset_creation': 1989, 'last_updated': 'Wed Feb 14 2024', 'dataset_doi': '10.24432/C5530G', 'creators': [], 'intro_paper': None, 'additional_info': {'summary': 'Notes:\\r\\n\\r\\n   -- The database contains 3 potential classes, one for the number of times a certain type of solar flare occured in a 24 hour period.\\r\\n   -- Each instance represents captured features for 1 active region on the sun.\\r\\n   -- The data are divided into two sections. The second section (flare.data2) has had much more error correction applied to the it, and has consequently been treated as more reliable.', 'purpose': None, 'funded_by': None, 'instances_represent': None, 'recommended_data_splits': None, 'sensitive_data': None, 'preprocessing_description': None, 'variable_info': \"   1. Code for class (modified Zurich class)  (A,B,C,D,E,F,H)\\r\\n   2. Code for largest spot size              (X,R,S,A,H,K)\\r\\n   3. Code for spot distribution              (X,O,I,C)\\r\\n   4. Activity                                (1 = reduced, 2 = unchanged)\\r\\n   5. Evolution                               (1 = decay, 2 = no growth, 3 = growth)\\r\\n   6. Previous 24 hour flare activity code    (1 = nothing as big as an M1, 2 = one M1, 3 = more activity than one M1)\\r\\n   7. Historically-complex                    (1 = Yes, 2 = No)\\r\\n   8. Did region become historically complex  on this pass across the sun's disk (1 = yes, 2 = no) \\r\\n   9. Area                                    (1 = small, 2 = large)\\r\\n  10. Area of the largest spot                (1 = <=5, 2 = >5)\\r\\n\\r\\n From all these predictors three classes of flares are predicted, which are represented in the last three columns.\\r\\n\\r\\n  11. C-class flares production by this region in the following 24 hours (common flares); Number\\r\\n  12. M-class flares production by this region in the following 24 hours (moderate flares);   Number\\r\\n  13. X-class flares production by this region in the following 24 hours (severe flares); Number\\r\\n     \", 'citation': None}}\n",
      "                               name     role         type demographic  \\\n",
      "0             modified Zurich class  Feature  Categorical        None   \n",
      "1                 largest spot size  Feature  Categorical        None   \n",
      "2                 spot distribution  Feature  Categorical        None   \n",
      "3                          activity  Feature      Integer        None   \n",
      "4                         evolution  Feature      Integer        None   \n",
      "5   previous 24 hour flare activity  Feature      Integer        None   \n",
      "6              historically-complex  Feature      Integer        None   \n",
      "7       became complex on this pass  Feature      Integer        None   \n",
      "8                              area  Feature      Integer        None   \n",
      "9              area of largest spot  Feature      Integer        None   \n",
      "10                    common flares   Target      Integer        None   \n",
      "11                  moderate flares   Target      Integer        None   \n",
      "12                    severe flares   Target      Integer        None   \n",
      "\n",
      "                                          description units missing_values  \n",
      "0                                       A,B,C,D,E,F,H  None             no  \n",
      "1                                         X,R,S,A,H,K  None             no  \n",
      "2                                             X,O,I,C  None             no  \n",
      "3                          1 = reduced, 2 = unchanged  None             no  \n",
      "4                1 = decay, 2 = no growth, 3 = growth  None             no  \n",
      "5   1 = nothing as big as an M1, 2 = one M1, 3 = m...  None             no  \n",
      "6                                     1 = Yes, 2 = No  None             no  \n",
      "7   . Did region become historically complex  on t...  None             no  \n",
      "8                                1 = small, 2 = large  None             no  \n",
      "9                                     1 = <=5, 2 = >5  None             no  \n",
      "10  C-class flares production by this region in th...  None             no  \n",
      "11  M-class flares production by this region in th...  None             no  \n",
      "12  X-class flares production by this region in th...  None             no  \n",
      "Column Name: modified Zurich class\n",
      "Column DataType: object\n",
      "Column unique values: ['C' 'D' 'B' 'F' 'H' 'E']\n",
      "Column has null: False\n",
      "\n",
      "\n",
      "Column Name: largest spot size\n",
      "Column DataType: object\n",
      "Column unique values: ['S' 'A' 'K' 'R' 'X' 'H']\n",
      "Column has null: False\n",
      "\n",
      "\n",
      "Column Name: spot distribution\n",
      "Column DataType: object\n",
      "Column unique values: ['O' 'I' 'X' 'C']\n",
      "Column has null: False\n",
      "\n",
      "\n",
      "Column Name: activity\n",
      "Column DataType: int64\n",
      "Column unique values: [1 2]\n",
      "Column has null: False\n",
      "\n",
      "\n",
      "Column Name: evolution\n",
      "Column DataType: int64\n",
      "Column unique values: [2 3 1]\n",
      "Column has null: False\n",
      "\n",
      "\n",
      "Column Name: previous 24 hour flare activity\n",
      "Column DataType: int64\n",
      "Column unique values: [1 3 2]\n",
      "Column has null: False\n",
      "\n",
      "\n",
      "Column Name: historically-complex\n",
      "Column DataType: int64\n",
      "Column unique values: [1 2]\n",
      "Column has null: False\n",
      "\n",
      "\n",
      "Column Name: became complex on this pass\n",
      "Column DataType: int64\n",
      "Column unique values: [2 1]\n",
      "Column has null: False\n",
      "\n",
      "\n",
      "Column Name: area\n",
      "Column DataType: int64\n",
      "Column unique values: [1 2]\n",
      "Column has null: False\n",
      "\n",
      "\n",
      "Column Name: area of largest spot\n",
      "Column DataType: int64\n",
      "Column unique values: [2 1]\n",
      "Column has null: False\n",
      "\n",
      "\n",
      "Column Name: common flares\n",
      "Column DataType: int64\n",
      "Column unique values: [0 1 2 5 3 8 4 6]\n",
      "Column has null: False\n",
      "\n",
      "\n",
      "Column Name: moderate flares\n",
      "Column DataType: int64\n",
      "Column unique values: [0 1 2 4 3 5]\n",
      "Column has null: False\n",
      "\n",
      "\n",
      "Column Name: severe flares\n",
      "Column DataType: int64\n",
      "Column unique values: [0 1 2]\n",
      "Column has null: False\n",
      "\n",
      "\n",
      "Categorical columns: Index(['modified Zurich class', 'largest spot size', 'spot distribution'], dtype='object')\n",
      "Numerical columns: Index(['activity', 'evolution', 'previous 24 hour flare activity',\n",
      "       'historically-complex', 'became complex on this pass', 'area',\n",
      "       'area of largest spot', 'common flares', 'moderate flares',\n",
      "       'severe flares'],\n",
      "      dtype='object')\n"
     ]
    },
    {
     "data": {
      "image/png": "[encoded data removed]",
      "text/plain": [
       "<Figure size 720x720 with 16 Axes>"
      ]
     },
     "metadata": {
      "needs_background": "light"
     },
     "output_type": "display_data"
    },
    {
     "data": {
      "image/png": "[encoded data removed]",
      "text/plain": [
       "<Figure size 432x288 with 1 Axes>"
      ]
     },
     "metadata": {
      "needs_background": "light"
     },
     "output_type": "display_data"
    },
    {
     "data": {
      "image/png": "[encoded data removed]",
      "text/plain": [
       "<Figure size 432x288 with 1 Axes>"
      ]
     },
     "metadata": {
      "needs_background": "light"
     },
     "output_type": "display_data"
    },
    {
     "data": {
      "image/png": "[encoded data removed]",
      "text/plain": [
       "<Figure size 432x288 with 1 Axes>"
      ]
     },
     "metadata": {
      "needs_background": "light"
     },
     "output_type": "display_data"
    },
    {
     "data": {
      "image/png": "[encoded data removed]",
      "text/plain": [
       "<Figure size 432x288 with 1 Axes>"
      ]
     },
     "metadata": {
      "needs_background": "light"
     },
     "output_type": "display_data"
    },
    {
     "data": {
      "image/png": "[encoded data removed]",
      "text/plain": [
       "<Figure size 432x288 with 1 Axes>"
      ]
     },
     "metadata": {
      "needs_background": "light"
     },
     "output_type": "display_data"
    },
    {
     "data": {
      "image/png": "[encoded data removed]",
      "text/plain": [
       "<Figure size 432x288 with 1 Axes>"
      ]
     },
     "metadata": {
      "needs_background": "light"
     },
     "output_type": "display_data"
    },
    {
     "data": {
      "image/png": "[encoded data removed]",
      "text/plain": [
       "<Figure size 432x288 with 1 Axes>"
      ]
     },
     "metadata": {
      "needs_background": "light"
     },
     "output_type": "display_data"
    },
    {
     "data": {
      "image/png": "[encoded data removed]",
      "text/plain": [
       "<Figure size 432x288 with 1 Axes>"
      ]
     },
     "metadata": {
      "needs_background": "light"
     },
     "output_type": "display_data"
    },
    {
     "data": {
      "image/png": "[encoded data removed]",
      "text/plain": [
       "<Figure size 432x288 with 1 Axes>"
      ]
     },
     "metadata": {
      "needs_background": "light"
     },
     "output_type": "display_data"
    },
    {
     "data": {
      "image/png": "[encoded data removed]",
      "text/plain": [
       "<Figure size 432x288 with 1 Axes>"
      ]
     },
     "metadata": {
      "needs_background": "light"
     },
     "output_type": "display_data"
    },
    {
     "ename": "ValueError",
     "evalue": "Unknown label type: 'continuous'",
     "output_type": "error",
     "traceback": [
      "\u001b[1;31m---------------------------------------------------------------------------\u001b[0m",
      "\u001b[1;31mValueError\u001b[0m                                Traceback (most recent call last)",
      "Input \u001b[1;32mIn [15]\u001b[0m, in \u001b[0;36m<cell line: 1>\u001b[1;34m()\u001b[0m\n\u001b[1;32m----> 1\u001b[0m \u001b[43mmaster_workflow\u001b[49m\u001b[43m(\u001b[49m\u001b[43m)\u001b[49m\n",
      "Input \u001b[1;32mIn [14]\u001b[0m, in \u001b[0;36mmaster_workflow\u001b[1;34m()\u001b[0m\n\u001b[0;32m      9\u001b[0m plot_boxplots(original)\n\u001b[0;32m     10\u001b[0m X_train, X_test, y_train, y_test \u001b[38;5;241m=\u001b[39m split_data(original, targets\u001b[38;5;241m.\u001b[39mcolumns[\u001b[38;5;241m0\u001b[39m])\n\u001b[1;32m---> 11\u001b[0m \u001b[43mtrain_and_evaluate\u001b[49m\u001b[43m(\u001b[49m\u001b[43mX_train\u001b[49m\u001b[43m,\u001b[49m\u001b[43m \u001b[49m\u001b[43mX_test\u001b[49m\u001b[43m,\u001b[49m\u001b[43m \u001b[49m\u001b[43my_train\u001b[49m\u001b[43m,\u001b[49m\u001b[43m \u001b[49m\u001b[43my_test\u001b[49m\u001b[43m)\u001b[49m\n",
      "Input \u001b[1;32mIn [13]\u001b[0m, in \u001b[0;36mtrain_and_evaluate\u001b[1;34m(X_train, X_test, y_train, y_test)\u001b[0m\n\u001b[0;32m      8\u001b[0m \u001b[38;5;28;01mdef\u001b[39;00m \u001b[38;5;21mtrain_and_evaluate\u001b[39m(X_train, X_test, y_train, y_test):\n\u001b[0;32m      9\u001b[0m     model \u001b[38;5;241m=\u001b[39m KNeighborsClassifier()\n\u001b[1;32m---> 10\u001b[0m     \u001b[43mmodel\u001b[49m\u001b[38;5;241;43m.\u001b[39;49m\u001b[43mfit\u001b[49m\u001b[43m(\u001b[49m\u001b[43mX_train\u001b[49m\u001b[43m,\u001b[49m\u001b[43m \u001b[49m\u001b[43my_train\u001b[49m\u001b[43m)\u001b[49m\n\u001b[0;32m     11\u001b[0m     predictions \u001b[38;5;241m=\u001b[39m model\u001b[38;5;241m.\u001b[39mpredict(X_test)\n\u001b[0;32m     12\u001b[0m     \u001b[38;5;28mprint\u001b[39m(classification_report(y_test, predictions))\n",
      "File \u001b[1;32m~\\anaconda3\\lib\\site-packages\\sklearn\\neighbors\\_classification.py:198\u001b[0m, in \u001b[0;36mKNeighborsClassifier.fit\u001b[1;34m(self, X, y)\u001b[0m\n\u001b[0;32m    179\u001b[0m \u001b[38;5;124;03m\"\"\"Fit the k-nearest neighbors classifier from the training dataset.\u001b[39;00m\n\u001b[0;32m    180\u001b[0m \n\u001b[0;32m    181\u001b[0m \u001b[38;5;124;03mParameters\u001b[39;00m\n\u001b[1;32m   (...)\u001b[0m\n\u001b[0;32m    194\u001b[0m \u001b[38;5;124;03m    The fitted k-nearest neighbors classifier.\u001b[39;00m\n\u001b[0;32m    195\u001b[0m \u001b[38;5;124;03m\"\"\"\u001b[39;00m\n\u001b[0;32m    196\u001b[0m \u001b[38;5;28mself\u001b[39m\u001b[38;5;241m.\u001b[39mweights \u001b[38;5;241m=\u001b[39m _check_weights(\u001b[38;5;28mself\u001b[39m\u001b[38;5;241m.\u001b[39mweights)\n\u001b[1;32m--> 198\u001b[0m \u001b[38;5;28;01mreturn\u001b[39;00m \u001b[38;5;28;43mself\u001b[39;49m\u001b[38;5;241;43m.\u001b[39;49m\u001b[43m_fit\u001b[49m\u001b[43m(\u001b[49m\u001b[43mX\u001b[49m\u001b[43m,\u001b[49m\u001b[43m \u001b[49m\u001b[43my\u001b[49m\u001b[43m)\u001b[49m\n",
      "File \u001b[1;32m~\\anaconda3\\lib\\site-packages\\sklearn\\neighbors\\_base.py:420\u001b[0m, in \u001b[0;36mNeighborsBase._fit\u001b[1;34m(self, X, y)\u001b[0m\n\u001b[0;32m    417\u001b[0m \u001b[38;5;28;01melse\u001b[39;00m:\n\u001b[0;32m    418\u001b[0m     \u001b[38;5;28mself\u001b[39m\u001b[38;5;241m.\u001b[39moutputs_2d_ \u001b[38;5;241m=\u001b[39m \u001b[38;5;28;01mTrue\u001b[39;00m\n\u001b[1;32m--> 420\u001b[0m \u001b[43mcheck_classification_targets\u001b[49m\u001b[43m(\u001b[49m\u001b[43my\u001b[49m\u001b[43m)\u001b[49m\n\u001b[0;32m    421\u001b[0m \u001b[38;5;28mself\u001b[39m\u001b[38;5;241m.\u001b[39mclasses_ \u001b[38;5;241m=\u001b[39m []\n\u001b[0;32m    422\u001b[0m \u001b[38;5;28mself\u001b[39m\u001b[38;5;241m.\u001b[39m_y \u001b[38;5;241m=\u001b[39m np\u001b[38;5;241m.\u001b[39mempty(y\u001b[38;5;241m.\u001b[39mshape, dtype\u001b[38;5;241m=\u001b[39m\u001b[38;5;28mint\u001b[39m)\n",
      "File \u001b[1;32m~\\anaconda3\\lib\\site-packages\\sklearn\\utils\\multiclass.py:197\u001b[0m, in \u001b[0;36mcheck_classification_targets\u001b[1;34m(y)\u001b[0m\n\u001b[0;32m    189\u001b[0m y_type \u001b[38;5;241m=\u001b[39m type_of_target(y)\n\u001b[0;32m    190\u001b[0m \u001b[38;5;28;01mif\u001b[39;00m y_type \u001b[38;5;129;01mnot\u001b[39;00m \u001b[38;5;129;01min\u001b[39;00m [\n\u001b[0;32m    191\u001b[0m     \u001b[38;5;124m\"\u001b[39m\u001b[38;5;124mbinary\u001b[39m\u001b[38;5;124m\"\u001b[39m,\n\u001b[0;32m    192\u001b[0m     \u001b[38;5;124m\"\u001b[39m\u001b[38;5;124mmulticlass\u001b[39m\u001b[38;5;124m\"\u001b[39m,\n\u001b[1;32m   (...)\u001b[0m\n\u001b[0;32m    195\u001b[0m     \u001b[38;5;124m\"\u001b[39m\u001b[38;5;124mmultilabel-sequences\u001b[39m\u001b[38;5;124m\"\u001b[39m,\n\u001b[0;32m    196\u001b[0m ]:\n\u001b[1;32m--> 197\u001b[0m     \u001b[38;5;28;01mraise\u001b[39;00m \u001b[38;5;167;01mValueError\u001b[39;00m(\u001b[38;5;124m\"\u001b[39m\u001b[38;5;124mUnknown label type: \u001b[39m\u001b[38;5;132;01m%r\u001b[39;00m\u001b[38;5;124m\"\u001b[39m \u001b[38;5;241m%\u001b[39m y_type)\n",
      "\u001b[1;31mValueError\u001b[0m: Unknown label type: 'continuous'"
     ]
    }
   ],
   "source": []
  },
  {
   "cell_type": "code",
   "execution_count": null,
   "id": "8a385fc3",
   "metadata": {},
   "outputs": [],
   "source": []
  }
 ],
 "metadata": {
  "kernelspec": {
   "display_name": "Python 3 (ipykernel)",
   "language": "python",
   "name": "python3"
  },
  "language_info": {
   "codemirror_mode": {
    "name": "ipython",
    "version": 3
   },
   "file_extension": ".py",
   "mimetype": "text/x-python",
   "name": "python",
   "nbconvert_exporter": "python",
   "pygments_lexer": "ipython3",
   "version": "3.9.12"
  }
 },
 "nbformat": 4,
 "nbformat_minor": 5
}
